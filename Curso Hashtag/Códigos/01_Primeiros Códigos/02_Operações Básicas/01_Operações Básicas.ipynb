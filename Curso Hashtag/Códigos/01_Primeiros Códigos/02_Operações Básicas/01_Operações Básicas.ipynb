{
 "cells": [
  {
   "cell_type": "markdown",
   "metadata": {},
   "source": [
    "### Operações Mateméticas no Python:\n",
    "\n",
    "1. Adição -> +\n",
    "2. Subtração -> -\n",
    "3. Divisão -> /\n",
    "4. Multiplicação -> *\n",
    "5. Mod (resto da divisão) -> %\n"
   ]
  },
  {
   "cell_type": "code",
   "execution_count": 1,
   "metadata": {},
   "outputs": [
    {
     "name": "stdout",
     "output_type": "stream",
     "text": [
      "8\n",
      "2\n",
      "1.6666666666666667\n",
      "15\n",
      "2\n"
     ]
    }
   ],
   "source": [
    "#Adição.\n",
    "print(3 + 5)\n",
    "\n",
    "#Subtração.\n",
    "print(5 - 3)\n",
    "\n",
    "#Divisão.\n",
    "print(5 / 3)\n",
    "\n",
    "#Multiplicação.\n",
    "print(5 * 3)\n",
    "\n",
    "#Mod (Resto da divisão de 5 por 3).\n",
    "print(5 % 3)\n"
   ]
  }
 ],
 "metadata": {
  "kernelspec": {
   "display_name": "Python 3",
   "language": "python",
   "name": "python3"
  },
  "language_info": {
   "codemirror_mode": {
    "name": "ipython",
    "version": 3
   },
   "file_extension": ".py",
   "mimetype": "text/x-python",
   "name": "python",
   "nbconvert_exporter": "python",
   "pygments_lexer": "ipython3",
   "version": "3.13.0"
  }
 },
 "nbformat": 4,
 "nbformat_minor": 2
}
