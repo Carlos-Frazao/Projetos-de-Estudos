{
 "cells": [
  {
   "cell_type": "markdown",
   "metadata": {},
   "source": [
    "### Ordem de Precedência:\n",
    "\n",
    "1. [ () ]<br>\n",
    "2. [ ** ]<br>\n",
    "3. [ * ] [ / ] [ // ] [ % ]<br>\n",
    "4. [ + ] [ - ]\n"
   ]
  },
  {
   "cell_type": "code",
   "execution_count": 9,
   "metadata": {},
   "outputs": [
    {
     "name": "stdout",
     "output_type": "stream",
     "text": [
      "4\n",
      "5\n",
      "10\n",
      "25\n",
      "2.0\n",
      "0\n",
      "8\n"
     ]
    }
   ],
   "source": [
    "#Será feito primeiro a Adição e depois a Multiplicação.\n",
    "print((1 + 1) * 2) \n",
    "\n",
    "#Sera feito primeiro a potência 1² == 1x1=1 logo em seguida 6 - 1 resultado será 5.\n",
    "print(6 - 1 ** 2) \n",
    "\n",
    "#Sinal de Multiplicação.\n",
    "print(5 * 2) \n",
    "\n",
    "#Sinal de Potência. EX: 5²\n",
    "print(5 ** 2) \n",
    "\n",
    "#Sinal de Divisão\n",
    "print(4 / 2) \n",
    "\n",
    "#Sinal de Resto da Divisão. Ex: 4 dividido por 2 é igual a 0. \n",
    "print(4 % 2) \n",
    "\n",
    "#Priorizar ordem de opeação.\n",
    "print((2 + 2) * 2)\n"
   ]
  }
 ],
 "metadata": {
  "kernelspec": {
   "display_name": "Python 3",
   "language": "python",
   "name": "python3"
  },
  "language_info": {
   "codemirror_mode": {
    "name": "ipython",
    "version": 3
   },
   "file_extension": ".py",
   "mimetype": "text/x-python",
   "name": "python",
   "nbconvert_exporter": "python",
   "pygments_lexer": "ipython3",
   "version": "3.13.0"
  }
 },
 "nbformat": 4,
 "nbformat_minor": 2
}
