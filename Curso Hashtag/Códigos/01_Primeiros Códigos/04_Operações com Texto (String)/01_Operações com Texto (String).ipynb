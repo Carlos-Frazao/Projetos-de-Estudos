{
 "cells": [
  {
   "cell_type": "markdown",
   "metadata": {},
   "source": [
    "### Operações Básicas com String\n",
    "\n",
    "1. Concatenar -> +\n"
   ]
  },
  {
   "cell_type": "code",
   "execution_count": 6,
   "metadata": {},
   "outputs": [
    {
     "name": "stdout",
     "output_type": "stream",
     "text": [
      "Meu nome é Carlos.\n"
     ]
    }
   ],
   "source": [
    "#Concatenando strings.\n",
    "print('Meu nome é' + ' Carlos.')\n",
    "\n",
    "#Concatenar com números.\n",
    "print('O faturamento da loja foi ' + '1000')\n"
   ]
  },
  {
   "cell_type": "markdown",
   "metadata": {},
   "source": [
    "2. Verificar se um texto está contido dentro do outro -> in"
   ]
  },
  {
   "cell_type": "code",
   "execution_count": 8,
   "metadata": {},
   "outputs": [
    {
     "name": "stdout",
     "output_type": "stream",
     "text": [
      "True\n",
      "False\n"
     ]
    }
   ],
   "source": [
    "#Verificando se um caractere ('a') está presente em uma string.\n",
    "print('a' in 'Carlos')\n",
    "\n",
    "#Verificação: Case Sensitive, faz diferença entre maiúsculas e minúsculas.\n",
    "print('c' in 'Carlos')\n"
   ]
  }
 ],
 "metadata": {
  "kernelspec": {
   "display_name": "Python 3",
   "language": "python",
   "name": "python3"
  },
  "language_info": {
   "codemirror_mode": {
    "name": "ipython",
    "version": 3
   },
   "file_extension": ".py",
   "mimetype": "text/x-python",
   "name": "python",
   "nbconvert_exporter": "python",
   "pygments_lexer": "ipython3",
   "version": "3.13.0"
  }
 },
 "nbformat": 4,
 "nbformat_minor": 2
}
