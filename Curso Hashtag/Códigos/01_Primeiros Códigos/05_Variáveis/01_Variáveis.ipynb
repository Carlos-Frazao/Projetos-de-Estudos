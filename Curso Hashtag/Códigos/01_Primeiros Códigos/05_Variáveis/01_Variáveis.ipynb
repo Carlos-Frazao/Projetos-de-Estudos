{
 "cells": [
  {
   "cell_type": "markdown",
   "metadata": {},
   "source": [
    "### Variável\n",
    "\n",
    "variavel = valor"
   ]
  },
  {
   "cell_type": "code",
   "execution_count": 1,
   "metadata": {},
   "outputs": [
    {
     "name": "stdout",
     "output_type": "stream",
     "text": [
      "1500\n",
      "700\n"
     ]
    }
   ],
   "source": [
    "faturamento = 1500\n",
    "custo = 800\n",
    "\n",
    "lucro = faturamento - custo\n",
    "\n",
    "print(faturamento)\n",
    "print(lucro)\n"
   ]
  },
  {
   "cell_type": "code",
   "execution_count": 4,
   "metadata": {},
   "outputs": [
    {
     "name": "stdout",
     "output_type": "stream",
     "text": [
      "João Carlos\n",
      "1500\n"
     ]
    }
   ],
   "source": [
    "qtdade_vendas = 1500\n",
    "nome = 'João Carlos'\n",
    "\n",
    "print(nome)\n",
    "print(qtdade_vendas)\n"
   ]
  }
 ],
 "metadata": {
  "kernelspec": {
   "display_name": "Python 3",
   "language": "python",
   "name": "python3"
  },
  "language_info": {
   "codemirror_mode": {
    "name": "ipython",
    "version": 3
   },
   "file_extension": ".py",
   "mimetype": "text/x-python",
   "name": "python",
   "nbconvert_exporter": "python",
   "pygments_lexer": "ipython3",
   "version": "3.13.0"
  }
 },
 "nbformat": 4,
 "nbformat_minor": 2
}
