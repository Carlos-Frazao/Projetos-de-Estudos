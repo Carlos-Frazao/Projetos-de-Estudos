{
 "cells": [
  {
   "cell_type": "code",
   "execution_count": 1,
   "metadata": {},
   "outputs": [
    {
     "ename": "NameError",
     "evalue": "name 'faturamento' is not defined",
     "output_type": "error",
     "traceback": [
      "\u001b[1;31m---------------------------------------------------------------------------\u001b[0m",
      "\u001b[1;31mNameError\u001b[0m                                 Traceback (most recent call last)",
      "Cell \u001b[1;32mIn[1], line 1\u001b[0m\n\u001b[1;32m----> 1\u001b[0m \u001b[38;5;28mprint\u001b[39m(\u001b[43mfaturamento\u001b[49m)\n\u001b[0;32m      3\u001b[0m faturamento \u001b[38;5;241m=\u001b[39m \u001b[38;5;241m1000\u001b[39m\n",
      "\u001b[1;31mNameError\u001b[0m: name 'faturamento' is not defined"
     ]
    }
   ],
   "source": [
    "print(faturamento)\n",
    "\n",
    "faturamento = 1000\n",
    "#Esse código não funcionará, pois a variável faturamento foi chamada antes de ser declarada. Deve-se declarar a variável antes de chamá-la.\n"
   ]
  },
  {
   "cell_type": "code",
   "execution_count": 2,
   "metadata": {},
   "outputs": [
    {
     "name": "stdout",
     "output_type": "stream",
     "text": [
      "1000\n"
     ]
    }
   ],
   "source": [
    "#Maneira correta de declarar a variável faturamento.\n",
    "faturamento = 1000\n",
    "\n",
    "print(faturamento)\n",
    "#Agora o código funcionará corretamente, pois a variável faturamento foi declarada antes de ser chamada.\n"
   ]
  }
 ],
 "metadata": {
  "kernelspec": {
   "display_name": "Python 3",
   "language": "python",
   "name": "python3"
  },
  "language_info": {
   "codemirror_mode": {
    "name": "ipython",
    "version": 3
   },
   "file_extension": ".py",
   "mimetype": "text/x-python",
   "name": "python",
   "nbconvert_exporter": "python",
   "pygments_lexer": "ipython3",
   "version": "3.13.0"
  }
 },
 "nbformat": 4,
 "nbformat_minor": 2
}
