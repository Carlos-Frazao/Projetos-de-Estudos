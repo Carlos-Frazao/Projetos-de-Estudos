{
 "cells": [
  {
   "cell_type": "markdown",
   "id": "a7222466",
   "metadata": {},
   "source": [
    "### F-string"
   ]
  },
  {
   "cell_type": "code",
   "execution_count": 1,
   "id": "66c75af4",
   "metadata": {},
   "outputs": [
    {
     "name": "stdout",
     "output_type": "stream",
     "text": [
      "O faturamento foi de 1000 e o lucro de 600.\n",
      "O faturamento foi de 1000 e o lucro de 600.\n",
      "O faturamento foi de 1000 e o lucro de 600.\n"
     ]
    }
   ],
   "source": [
    "faturamento = 1000\n",
    "custo = 400\n",
    "\n",
    "lucro = faturamento - custo\n",
    "\n",
    "#Com format\n",
    "print(\"O faturamento foi de {} e o lucro de {}.\".format(faturamento, lucro))\n",
    "\n",
    "#Com f-string\n",
    "print(f\"O faturamento foi de {faturamento} e o lucro de {lucro}.\")\n",
    "\n",
    "#F-string com operações dentro das chaves\n",
    "print(f\"O faturamento foi de {faturamento} e o lucro de {faturamento - custo}.\")\n",
    "\n"
   ]
  }
 ],
 "metadata": {
  "kernelspec": {
   "display_name": "Python 3",
   "language": "python",
   "name": "python3"
  },
  "language_info": {
   "codemirror_mode": {
    "name": "ipython",
    "version": 3
   },
   "file_extension": ".py",
   "mimetype": "text/x-python",
   "name": "python",
   "nbconvert_exporter": "python",
   "pygments_lexer": "ipython3",
   "version": "3.13.0"
  }
 },
 "nbformat": 4,
 "nbformat_minor": 5
}
