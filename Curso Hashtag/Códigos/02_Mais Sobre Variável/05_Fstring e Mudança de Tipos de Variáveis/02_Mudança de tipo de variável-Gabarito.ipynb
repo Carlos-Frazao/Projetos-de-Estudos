{
 "cells": [
  {
   "cell_type": "markdown",
   "id": "0ca5746c",
   "metadata": {},
   "source": [
    "### Mudança de tipo de variável"
   ]
  },
  {
   "cell_type": "code",
   "execution_count": 1,
   "id": "868bfafd",
   "metadata": {},
   "outputs": [
    {
     "name": "stdout",
     "output_type": "stream",
     "text": [
      "<class 'float'>\n",
      "<class 'float'>\n",
      "500.0\n"
     ]
    }
   ],
   "source": [
    "faturamento = float(input(\"Insira o faturamento \"))\n",
    "custo = float(input(\"Insira o custo\"))\n",
    "\n",
    "print(type(faturamento))\n",
    "print(type(custo))\n",
    "\n",
    "lucro = faturamento - custo\n",
    "\n",
    "print(lucro)\n",
    "\n",
    "#Str -> muda para string\n",
    "#Int -> muda para inteiro\n",
    "#Float -> muda para float\n"
   ]
  }
 ],
 "metadata": {
  "kernelspec": {
   "display_name": "Python 3",
   "language": "python",
   "name": "python3"
  },
  "language_info": {
   "codemirror_mode": {
    "name": "ipython",
    "version": 3
   },
   "file_extension": ".py",
   "mimetype": "text/x-python",
   "name": "python",
   "nbconvert_exporter": "python",
   "pygments_lexer": "ipython3",
   "version": "3.13.0"
  }
 },
 "nbformat": 4,
 "nbformat_minor": 5
}
