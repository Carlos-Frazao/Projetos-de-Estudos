{
 "cells": [
  {
   "cell_type": "markdown",
   "id": "bb0f9514",
   "metadata": {
    "id": "bb0f9514"
   },
   "source": [
    "# Lista de Estrutura Sequencial"
   ]
  },
  {
   "cell_type": "markdown",
   "id": "4e7a8c30",
   "metadata": {
    "id": "4e7a8c30"
   },
   "source": [
    "#### 1. Faça um Programa que mostre a mensagem (print) \"Alo mundo\" na tela."
   ]
  },
  {
   "cell_type": "code",
   "execution_count": 1,
   "id": "883bfe85",
   "metadata": {
    "id": "883bfe85"
   },
   "outputs": [
    {
     "name": "stdout",
     "output_type": "stream",
     "text": [
      "Alô mundo!\n",
      "Hello World!\n"
     ]
    }
   ],
   "source": [
    "print(\"Alô mundo!\")\n",
    "print(\"Hello World!\")\n"
   ]
  },
  {
   "cell_type": "markdown",
   "id": "71d6d6a2",
   "metadata": {
    "id": "71d6d6a2"
   },
   "source": [
    "#### 2. Faça um Programa que peça um número (input) e então mostre a mensagem: \"O número informado foi [número].\""
   ]
  },
  {
   "cell_type": "code",
   "execution_count": 2,
   "id": "30cfffcf",
   "metadata": {
    "id": "30cfffcf"
   },
   "outputs": [
    {
     "name": "stdout",
     "output_type": "stream",
     "text": [
      "O número informado foi 2.8\n"
     ]
    }
   ],
   "source": [
    "n = input(\"Digite um número: \")\n",
    "print(f\"O número informado foi {n}\")\n"
   ]
  },
  {
   "cell_type": "markdown",
   "id": "c5e43160",
   "metadata": {
    "id": "c5e43160"
   },
   "source": [
    "#### 3. Faça um Programa que peça dois números e imprima a soma."
   ]
  },
  {
   "cell_type": "code",
   "execution_count": 5,
   "id": "b0e79590",
   "metadata": {
    "id": "b0e79590"
   },
   "outputs": [
    {
     "name": "stdout",
     "output_type": "stream",
     "text": [
      "A soma de 2.8 e 2.9 é igual a 5.699999999999999\n"
     ]
    }
   ],
   "source": [
    "n1 = float(input(\"Digite um valor: \"))\n",
    "n2 = float(input(\"Digite outro valor: \"))\n",
    "print(f\"A soma de {n1} e {n2} é igual a {n1 + n2}\")\n"
   ]
  },
  {
   "cell_type": "markdown",
   "id": "17826987",
   "metadata": {
    "id": "17826987"
   },
   "source": [
    "#### 4. Faça um Programa que peça as 4 notas bimestrais de um aluno e mostre a média de todas as notas."
   ]
  },
  {
   "cell_type": "code",
   "execution_count": 9,
   "id": "23b66762",
   "metadata": {
    "id": "23b66762"
   },
   "outputs": [
    {
     "name": "stdout",
     "output_type": "stream",
     "text": [
      "A média de todas as notas bimestrais é 7.25\n"
     ]
    }
   ],
   "source": [
    "n1 = float(input(\"Digite a 1° nota: \"))\n",
    "n2 = float(input(\"Digite a 2° nota: \"))\n",
    "n3 = float(input(\"Digite a 3° nota: \"))\n",
    "n4 = float(input(\"Digite a 4° nota: \"))\n",
    "\n",
    "media = (n1 + n2 + n3 + n4) / 4\n",
    "\n",
    "print(f\"A média de todas as notas bimestrais é: {media}\")\n"
   ]
  },
  {
   "cell_type": "code",
   "execution_count": 18,
   "id": "51c942a0",
   "metadata": {},
   "outputs": [
    {
     "name": "stdout",
     "output_type": "stream",
     "text": [
      "A média de todas as notas bimestrais é 5.0\n"
     ]
    }
   ],
   "source": [
    "#Modo de fazer com laço de repetição.\n",
    "s = 0\n",
    "for c in range(1, 5):\n",
    "    n = float(input(f\"Digite a {c}°\"))\n",
    "    s += n #Essa linha pode ser escrita assim [s = n + s].\n",
    "print(f\"A média de todas as notas bimestrais é: {s / 4}\")"
   ]
  },
  {
   "cell_type": "markdown",
   "id": "62d461c5",
   "metadata": {
    "id": "62d461c5"
   },
   "source": [
    "#### 5. Faça um Programa que converta metros para centímetros. Você pode pedir o comprimento em metros para o usuário (input)."
   ]
  },
  {
   "cell_type": "code",
   "execution_count": null,
   "id": "d642f1ba",
   "metadata": {
    "id": "d642f1ba"
   },
   "outputs": [
    {
     "name": "stdout",
     "output_type": "stream",
     "text": [
      "1.5 Metros é igual a 150.0Centímetros.\n"
     ]
    }
   ],
   "source": [
    "m = float(input(\"Digite um comprimento de metros: \"))\n",
    "cm = m * 100\n",
    "print(f\"{m} Metros é igual a {cm} Centímetros.\")\n"
   ]
  },
  {
   "cell_type": "markdown",
   "id": "f1311697",
   "metadata": {
    "id": "f1311697"
   },
   "source": [
    "#### 6. Faça um Programa que calcule a área de uma sala de um apartamento. Para isso, o seu programa precisa pedir a largura da sala, o comprimento da sala e imprimir a área em m² da sala."
   ]
  },
  {
   "cell_type": "code",
   "execution_count": 3,
   "id": "612ea24b",
   "metadata": {
    "id": "612ea24b"
   },
   "outputs": [
    {
     "name": "stdout",
     "output_type": "stream",
     "text": [
      "------ Calculando a área de um apartamento ------\n",
      "A sala do apartamento tem aproximadamente 20.0M²\n"
     ]
    }
   ],
   "source": [
    "print(\"------ Calculando a área de um apartamento ------\")\n",
    "l = float(input(\"Digite a largura do apartamento? \"))\n",
    "c = float(input(\"Digite o comprimento do apartamento? \"))\n",
    "m2 = l * c \n",
    "print(f\"A sala do apartamento tem aproximadamente {m2}M²\")\n"
   ]
  },
  {
   "cell_type": "markdown",
   "id": "2a285929",
   "metadata": {
    "id": "2a285929"
   },
   "source": [
    "#### 7. Faça um Programa que pergunte quanto você ganha por hora e o número de horas trabalhadas no mês. Calcule e mostre o total do seu salário no referido mês."
   ]
  },
  {
   "cell_type": "code",
   "execution_count": 7,
   "id": "359e2232",
   "metadata": {
    "id": "359e2232"
   },
   "outputs": [
    {
     "name": "stdout",
     "output_type": "stream",
     "text": [
      "Seu salário no referido mês é de: R$1200.0\n"
     ]
    }
   ],
   "source": [
    "h = float(input(\"Quanto você ganha por hora? \"))\n",
    "h_t = float(input(\"Quantas horas trabalhadas no mês? \"))\n",
    "s = h * h_t\n",
    "print(f\"Seu salário no referido mês é de: R${s}\")\n"
   ]
  },
  {
   "cell_type": "markdown",
   "id": "7e2d4615",
   "metadata": {
    "id": "7e2d4615"
   },
   "source": [
    "#### 8. Vamos criar um conversor de temperatura. Faça um Programa que peça a temperatura em graus Fahrenheit, transforme e mostre a temperatura em graus Celsius.\n",
    "$C = \\frac{5}{9}(F-32)$"
   ]
  },
  {
   "cell_type": "code",
   "execution_count": 8,
   "id": "82daf9fd",
   "metadata": {
    "id": "82daf9fd"
   },
   "outputs": [
    {
     "name": "stdout",
     "output_type": "stream",
     "text": [
      "31.666666666666668\n"
     ]
    }
   ],
   "source": [
    "graus_f = float(input(\"Digite a temperatura em Graus Fahrenheit: \"))\n",
    "c = 5/9 * (graus_f - 32) #Calculo de Fahrenheit para Celsius.\n",
    "\n",
    "print(f\"{c}°C\")\n"
   ]
  },
  {
   "cell_type": "markdown",
   "id": "20708b1c",
   "metadata": {
    "id": "20708b1c"
   },
   "source": [
    "#### 9. Faça um Programa que peça a temperatura em graus Celsius, transforme e mostre em graus Fahrenheit.\n",
    "$F = \\frac{9}{5}C + 32$"
   ]
  },
  {
   "cell_type": "code",
   "execution_count": 11,
   "id": "c73cfb38",
   "metadata": {
    "id": "c73cfb38"
   },
   "outputs": [
    {
     "name": "stdout",
     "output_type": "stream",
     "text": [
      "95.0°F\n"
     ]
    }
   ],
   "source": [
    "graus_c = float(input(\"Digite uma temperatura em graus Celsius: \"))\n",
    "graus_f = (9/5) * graus_c + 32 #Calculo de Celsius para Fahrenheit.\n",
    "\n",
    "print(f\"{graus_f}°F\")\n"
   ]
  },
  {
   "cell_type": "markdown",
   "id": "b263a9dc",
   "metadata": {
    "id": "b263a9dc"
   },
   "source": [
    "#### 10. Tendo como dados de entrada a altura (h) de uma pessoa, construa um algoritmo que calcule seu peso ideal, usando a seguinte fórmula:\n",
    "$P = 72,7h - 58$\n",
    "\n",
    "Lembrando que \"algoritmo\" nada mais é do que um programa, como todos os outros que você vem fazendo"
   ]
  },
  {
   "cell_type": "code",
   "execution_count": null,
   "id": "9a9b8dca",
   "metadata": {
    "id": "9a9b8dca"
   },
   "outputs": [
    {
     "name": "stdout",
     "output_type": "stream",
     "text": [
      "Abaixo do peso ideal!\n",
      "Peso 47.0 / peso ideal 58.32000000000001\n"
     ]
    }
   ],
   "source": [
    "h_altura = float(input(\"Digite sua altura: \"))\n",
    "peso = float(input(\"Digite seu peso: \"))\n",
    "peso_ideal = (72.7*h_altura) - 58\n",
    "if peso < peso_ideal:\n",
    "    print(\"Abaixo do peso ideal!\")\n",
    "elif peso == peso_ideal:\n",
    "    print(\"Peso ideal! \")\n",
    "else:\n",
    "    print(\"Acima do peso ideal! \")\n",
    "print(f\"Peso {peso} / peso ideal {peso_ideal}\")\n",
    "\n",
    "#Difício"
   ]
  },
  {
   "cell_type": "markdown",
   "id": "13bb40d7",
   "metadata": {
    "id": "13bb40d7"
   },
   "source": [
    "#### 11. Tendo como dado de entrada a altura (h) de uma pessoa, construa um algoritmo que calcule seu peso ideal, utilizando as seguintes fórmulas:\n",
    "##### a. Para homens: $P = 72,7h - 58$\n",
    "##### b. Para mulheres: $P = 62,1h - 44,7$"
   ]
  },
  {
   "cell_type": "code",
   "execution_count": 12,
   "id": "40568ee8",
   "metadata": {},
   "outputs": [
    {
     "name": "stdout",
     "output_type": "stream",
     "text": [
      "Sexo não informado corretamente.\n"
     ]
    }
   ],
   "source": [
    "sexo = str(input(\"Digite seu sexo [M] [F]\")).upper()\n",
    "\n",
    "if sexo == 'M':\n",
    "    h_altura = float(input(\"Digite sua altura: \"))\n",
    "    peso = float(input(\"Digite se peso: \"))\n",
    "    peso_ideal_M = (72.7*h_altura) - 58\n",
    "    if peso < peso_ideal_M:\n",
    "        print(\"Abaixo do peso! mmmmm\")\n",
    "    elif peso == peso_ideal_M:\n",
    "        print(\"Você está no peso ideal!\")\n",
    "    else:\n",
    "        print(\"Acima do peso!\")\n",
    "\n",
    "elif sexo == \"F\":\n",
    "    h_altura = float(\"Digite sua altura: \")\n",
    "    peso = float(input(\"Digite seu peso: \"))\n",
    "    peso_ideal_F = (62.1*h_altura) - 44.7\n",
    "    if peso < peso_ideal_F:\n",
    "        print(\"Abaixo do peso!\")\n",
    "    elif peso == peso_ideal_F:\n",
    "        print(\"Peso ideal!\")\n",
    "    else:\n",
    "        print(\"Acima do peso!\")\n",
    "else:\n",
    "    print(\"Sexo não informado corretamente.\")\n",
    "\n"
   ]
  },
  {
   "cell_type": "markdown",
   "id": "f208ef89",
   "metadata": {
    "id": "f208ef89"
   },
   "source": [
    "#### 12. Faça um Programa que pergunte quanto você ganha por hora e o número de horas trabalhadas no mês."
   ]
  },
  {
   "cell_type": "code",
   "execution_count": 13,
   "id": "2d5b23e0",
   "metadata": {
    "id": "2d5b23e0"
   },
   "outputs": [],
   "source": [
    "hrs = float(input(\"Quanto você ganha por hora? \"))\n",
    "hrs_t_mes = float(input(\"Quantas horas você trabalha no mês? \"))\n"
   ]
  },
  {
   "cell_type": "markdown",
   "id": "607dee3c",
   "metadata": {
    "id": "607dee3c"
   },
   "source": [
    "#####  Calcule o salário bruto (horas * salario por hora)"
   ]
  },
  {
   "cell_type": "code",
   "execution_count": 14,
   "id": "7f80ccbb",
   "metadata": {
    "id": "7f80ccbb"
   },
   "outputs": [
    {
     "name": "stdout",
     "output_type": "stream",
     "text": [
      "4000.0\n"
     ]
    }
   ],
   "source": [
    "s = hrs * hrs_t_mes\n",
    "print(s)"
   ]
  },
  {
   "cell_type": "markdown",
   "id": "2ed93cb0",
   "metadata": {
    "id": "2ed93cb0"
   },
   "source": [
    "##### Calcule o desconto do IR (11% do salário bruto)"
   ]
  },
  {
   "cell_type": "code",
   "execution_count": 17,
   "id": "3363e22f",
   "metadata": {
    "id": "3363e22f"
   },
   "outputs": [
    {
     "name": "stdout",
     "output_type": "stream",
     "text": [
      "O desconto do IR é de R$440.0\n"
     ]
    }
   ],
   "source": [
    "desc_11 = 11 * s / 100 #Essa linha tbm pode ser assim [desc_11 = 0.11 * s]\n",
    "print(f\"O desconto do IR é de R$ {desc_11}\")\n"
   ]
  },
  {
   "cell_type": "markdown",
   "id": "0994b2c0",
   "metadata": {
    "id": "0994b2c0"
   },
   "source": [
    "##### Calcule o desconto do INSS (8% do salário bruto)"
   ]
  },
  {
   "cell_type": "code",
   "execution_count": 18,
   "id": "748c6088",
   "metadata": {
    "id": "748c6088"
   },
   "outputs": [
    {
     "name": "stdout",
     "output_type": "stream",
     "text": [
      "O desconto do INSS é de R$320.0\n"
     ]
    }
   ],
   "source": [
    "desc_inss = 8 * s / 100 #Essa linhaa tbm pode ser assim [desc_inss = 0.08 * s]\n",
    "print(f\"O desconto do INSS é de R$ {desc_inss}\")\n"
   ]
  },
  {
   "cell_type": "markdown",
   "id": "06e8dae4",
   "metadata": {
    "id": "06e8dae4"
   },
   "source": [
    "##### Calcule o desconto do sindicato (5% do salário bruto)"
   ]
  },
  {
   "cell_type": "code",
   "execution_count": 19,
   "id": "21b95b15",
   "metadata": {
    "id": "21b95b15",
    "scrolled": true
   },
   "outputs": [
    {
     "name": "stdout",
     "output_type": "stream",
     "text": [
      "200.0\n"
     ]
    }
   ],
   "source": [
    "desc_sind = 5 * s / 100 #Essa linha tbm pode ser assim [desc_sind = 0.05 * s]\n",
    "print(desc_sind)\n"
   ]
  },
  {
   "cell_type": "markdown",
   "id": "bb14ce36",
   "metadata": {
    "id": "bb14ce36"
   },
   "source": [
    "##### Calcule o salário líquido (salário bruto - descontos)"
   ]
  },
  {
   "cell_type": "code",
   "execution_count": 21,
   "id": "56317086",
   "metadata": {
    "id": "56317086"
   },
   "outputs": [
    {
     "name": "stdout",
     "output_type": "stream",
     "text": [
      "O sálario líquido é de R$ 3040.0\n"
     ]
    }
   ],
   "source": [
    "s_bruto = s - desc_11 - desc_inss - desc_sind\n",
    "print(f\"O sálario líquido é de R$ {s_bruto}\")"
   ]
  },
  {
   "cell_type": "markdown",
   "id": "cfbfcc87",
   "metadata": {
    "id": "cfbfcc87"
   },
   "source": [
    "#### 13. Faça um programa para uma loja de tintas. O programa deverá pedir o tamanho em metros quadrados da área a ser pintada. Considere que a cobertura da tinta é de 1 litro para cada 3 metros quadrados e que a tinta é vendida em latas de 18 litros, que custam R\\$ 80,00. Informe ao usuário a quantidades de latas de tinta a serem compradas e o preço total. (para simplificação nesse momento, não se preocupe em arredondar a quantidade de latas a serem compradas - vamos trabalhar isso em breve)"
   ]
  },
  {
   "cell_type": "code",
   "execution_count": 2,
   "id": "fb6a083b",
   "metadata": {
    "id": "fb6a083b"
   },
   "outputs": [
    {
     "name": "stdout",
     "output_type": "stream",
     "text": [
      "==========LOJA DE TINTAS=========\n",
      "são nescessárias 0.462962962962963 latas de tintas, custando o valor de 37.03703703703704R$\n"
     ]
    }
   ],
   "source": [
    "print(\"==========LOJA DE TINTAS=========\")\n",
    "area_pintada = float(input(\"Qual o tamanho da área a ser pintadas em m²:\"))\n",
    "\n",
    "litro = area_pintada / 3\n",
    "\n",
    "latas = litro / 18\n",
    "preco = latas * 80\n",
    "\n",
    "print(f\"são nescessárias {latas} latas de tintas, custando o valor de {preco}R$\")\n",
    "\n",
    "#Difício gabarito"
   ]
  },
  {
   "cell_type": "markdown",
   "id": "d6503c92",
   "metadata": {
    "id": "d6503c92"
   },
   "source": [
    "#### 14. Faça um programa que peça o tamanho de um arquivo para download (em MB) e a velocidade de um link de Internet (em Mbps), calcule e informe o tempo aproximado de download do arquivo usando este link (em minutos).\n",
    "\n",
    "Detalhe: MB significa megabyte, Mb (com b minúsculo) significa megabit. Um megabit é 1/8 de um megabyte. "
   ]
  },
  {
   "cell_type": "code",
   "execution_count": 23,
   "id": "0563aa62",
   "metadata": {
    "id": "0563aa62"
   },
   "outputs": [
    {
     "name": "stdout",
     "output_type": "stream",
     "text": [
      "O tempo de donwload é de 13.333333333333334 minutos.\n"
     ]
    }
   ],
   "source": [
    "arq = float(input(\"Qual o tamanho do aquivo para donwload (em MB) \"))\n",
    "velo = float(input(\"Qual a velocidade do link de internet (em Mbps) \"))\n",
    "#Transformar MB em Mbps.\n",
    "arq_megabite = arq * 8\n",
    "\n",
    "tempo = arq_megabite / velo\n",
    "#Transformando em tempo.\n",
    "tempo_minuto = tempo / 60\n",
    "\n",
    "print(f\"O tempo de donwload é de {tempo_minuto} minutos.\")\n",
    "\n",
    "#Difício gabarito"
   ]
  }
 ],
 "metadata": {
  "colab": {
   "provenance": []
  },
  "kernelspec": {
   "display_name": "Python 3",
   "language": "python",
   "name": "python3"
  },
  "language_info": {
   "codemirror_mode": {
    "name": "ipython",
    "version": 3
   },
   "file_extension": ".py",
   "mimetype": "text/x-python",
   "name": "python",
   "nbconvert_exporter": "python",
   "pygments_lexer": "ipython3",
   "version": "3.13.0"
  }
 },
 "nbformat": 4,
 "nbformat_minor": 5
}
