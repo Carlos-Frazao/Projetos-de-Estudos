{
 "cells": [
  {
   "cell_type": "markdown",
   "metadata": {},
   "source": [
    "# elif\n",
    "\n",
    "E se temos mais do que um caso de sim e não?\n",
    "\n",
    "E se tivermos 3 casos?\n",
    "\n",
    "Usamos o elif da seguinte forma:"
   ]
  },
  {
   "cell_type": "raw",
   "metadata": {
    "vscode": {
     "languageId": "raw"
    }
   },
   "source": [
    "if condição:\n",
    "    o que fazer se a condição 1 for verdadeira\n",
    "elif condição_2:\n",
    "    o que fazer se a condição 1 for falsa e a condição 2 for verdadeira\n",
    "else:\n",
    "    o que fazer se a condição 1 e a condição 2 forem falsas\n"
   ]
  },
  {
   "cell_type": "markdown",
   "metadata": {},
   "source": [
    "### Exemplo:\n",
    "\n",
    "Vamos criar um programa para analisar o bônus dos funcionários de uma empresa (pode parecer \"simples\", mas uma empresa como a Amazon tem 900.000 funcionários)\n",
    "\n",
    "Para os cargos de vendedores, a regra do bônus é de acordo com a meta de vendas da pessoa:\n",
    "\n",
    "Se ela vendeu abaixo da meta dela, ela não ganha bônus.\n",
    "\n",
    "Se ela vendeu acima da meta dela, ela ganha como bônus 3% do valor que ela vendeu.\n",
    "\n",
    "Se ela vendeu mais do que o dobro da meta dela, ela ganha como bônus 7% do valor que ela vendeu.\n",
    "\n",
    "Vamos criar um programa para avaliar uma pessoa que tinha como meta de vendas 20.000 reais e calcular o bônus dela de acordo com o valor de vendas que ela tiver."
   ]
  },
  {
   "cell_type": "code",
   "execution_count": 1,
   "metadata": {},
   "outputs": [
    {
     "name": "stdout",
     "output_type": "stream",
     "text": [
      "Você bateu a meta de vendas, portanto ganhou um bônus de 3% 750.0 \n"
     ]
    }
   ],
   "source": [
    "meta_vendas = 20000\n",
    "valor_vendido = 25000\n",
    "bonus = 0\n",
    "\n",
    "if valor_vendido < meta_vendas:\n",
    "    print(f\"Infelizmente você não bateu a meta de vendas\")\n",
    "elif valor_vendido >= (meta_vendas * 2):\n",
    "    bonus = valor_vendido * 0.07\n",
    "    print(f\"Parabêns vc vendeu mais do que o dobro da meta, portanto ganhou um bônus de 7% {bonus} \")\n",
    "elif valor_vendido > meta_vendas:\n",
    "    bonus = valor_vendido * 0.03\n",
    "    print(f\"Você bateu a meta de vendas, portanto ganhou um bônus de 3% {bonus} \")\n"
   ]
  },
  {
   "cell_type": "code",
   "execution_count": 4,
   "metadata": {},
   "outputs": [
    {
     "name": "stdout",
     "output_type": "stream",
     "text": [
      "Parabêns você vendeu o dobro da meta, seu bônus é de 3500.0000000000005\n"
     ]
    }
   ],
   "source": [
    "meta_vendas = 20000\n",
    "valor_vendido = 50000\n",
    "\n",
    "if valor_vendido < meta_vendas:\n",
    "    print(\"Infelizmente não bateu a meta.\")\n",
    "elif valor_vendido >= (meta_vendas * 2):\n",
    "    bonus = 0.07 * valor_vendido\n",
    "    print(f\"Parabêns você vendeu o dobro da meta, seu bônus é de {bonus}\")\n",
    "else:\n",
    "    bonus = 0.03 * valor_vendido\n",
    "    print(f\"Você bateu a meta de vendas, portanto seu bônus é de {bonus}\")\n",
    "    "
   ]
  }
 ],
 "metadata": {
  "kernelspec": {
   "display_name": "Python 3",
   "language": "python",
   "name": "python3"
  },
  "language_info": {
   "codemirror_mode": {
    "name": "ipython",
    "version": 3
   },
   "file_extension": ".py",
   "mimetype": "text/x-python",
   "name": "python",
   "nbconvert_exporter": "python",
   "pygments_lexer": "ipython3",
   "version": "3.13.0"
  }
 },
 "nbformat": 4,
 "nbformat_minor": 4
}
