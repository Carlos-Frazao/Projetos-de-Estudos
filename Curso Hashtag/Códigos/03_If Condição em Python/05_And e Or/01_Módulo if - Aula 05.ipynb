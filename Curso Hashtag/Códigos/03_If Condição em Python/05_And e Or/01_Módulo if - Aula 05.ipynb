{
 "cells": [
  {
   "cell_type": "markdown",
   "metadata": {},
   "source": [
    "# Casos com várias condições/comparações\n",
    "\n",
    "### Estrutura:\n",
    "\n",
    "Quando temos várias comparações, ao invés de criar if dentro de if podemos usar os operadores \"and\" e \"or\" para tratar essas condições.\n",
    "\n",
    "Funciona assim:"
   ]
  },
  {
   "cell_type": "raw",
   "metadata": {},
   "source": [
    "if condicao_1 and condicao_2:\n",
    "    vai ser executado se as 2 condições forem verdadeiras ao mesmo tempo\n",
    "\n",
    "outro caso:\n",
    "\n",
    "if condicao_1 or condicao_2:\n",
    "    vai ser executado se pelo menos uma das condições forem verdadeiras"
   ]
  },
  {
   "cell_type": "markdown",
   "metadata": {},
   "source": [
    "### Exemplo\n",
    "\n",
    "Vamos voltar ao exemplo de cálculo de meta de vendas dos funcionários. Muitas empresas atribuem bonificação do salário dos funcionários de acordo com o resultado do funcionário e também com o resultado da empresa como um todo.\n",
    "\n",
    "Nesse caso, a regra funciona da seguinte forma:\n",
    "- Se o funcionário vendeu mais do que a meta de vendas e a loja bateu a meta de vendas da loja, o funcionário ganha 3% do que ele vendeu em forma de bônus.\n",
    "- Caso o funcionário tenha batido a meta de vendas individual dele, mas a loja não tenha batido a meta de vendas da loja como um todo, o funcionário não ganha bônus."
   ]
  },
  {
   "cell_type": "code",
   "execution_count": 17,
   "metadata": {},
   "outputs": [
    {
     "name": "stdout",
     "output_type": "stream",
     "text": [
      "Meta da loja e do funcionário batida, funcionário recebeu um bônus de R$ 600.0 3% sobre as vendas\n"
     ]
    }
   ],
   "source": [
    "meta_loja = 150000\n",
    "meta_funcionario = 15000\n",
    "vendas_l = 200000\n",
    "vendas_f = 20000\n",
    "bonus = 0\n",
    "                                                                                                                   #(and)\n",
    "if vendas_f > meta_funcionario and vendas_l > meta_loja: #and significa se a condição 1 (vendas_f > meta_funcionario) e a condição 2 (vendas_l > meta_loja) forem iguais ou seja verdadeira.\n",
    "    bonus = 0.03 * vendas_f\n",
    "    print(f'Meta da loja e do funcionário batida, funcionário recebeu um bônus de R$ {bonus} 3% sobre as vendas')\n",
    "elif vendas_f > meta_funcionario and vendas_l < meta_loja:\n",
    "    print(f'O funcionário bateu sua meta individual, porém a loja não bateu a meta de vendas, então o funcionário não recebe bônus')\n",
    "else:\n",
    "    print(\"O funcionário não bateu sua meta de vendas e a loja tbm não. Então o funcionário não recebe bônus\")\n"
   ]
  },
  {
   "cell_type": "markdown",
   "metadata": {},
   "source": [
    "### Outro exemplo\n",
    "\n",
    "Agora vamos levar essa análise mais a fundo.\n",
    "\n",
    "Nessa empresa, existe um outro caso também que garante que o funcionário ganhe um bônus, independente das vendas que ele fez naquele mês.\n",
    "\n",
    "Todo mês os diretores da empresa fazem uma avaliação qualitativa de todos os funcionários. Nessa avaliação os diretores dão uma nota de 0 a 10 para cada funcionário. Se a nota do funcionário for 9 ou 10, ele também ganha o bônus de 3% do valor de vendas. (os bônus não são cumulativos)"
   ]
  },
  {
   "cell_type": "code",
   "execution_count": 34,
   "metadata": {},
   "outputs": [
    {
     "name": "stdout",
     "output_type": "stream",
     "text": [
      "----------Avaliação qualitativa dos funcionários----------\n",
      "Nota de 0 a 10 para cada funcionário. Se a nota for 9 ou 10, ele também receberá um bônus de 3% do valor de vendas.\n",
      "Funcionário não recebeu bônus\n"
     ]
    }
   ],
   "source": [
    "print(\"----------Avaliação qualitativa dos funcionários----------\")\n",
    "print(\"Nota de 0 a 10 para cada funcionário. Se a nota for 9 ou 10, ele também receberá um bônus de 3% do valor de vendas.\")\n",
    "\n",
    "meta_vendas_f = 25000\n",
    "vendas_f = 20000\n",
    "bonus = 0\n",
    "\n",
    "funcionario_nota = int(input(\"Digite a nota do funcionário: \"))\n",
    "\n",
    "                                                                                                                                    #or            #and                  #and                    \n",
    "if funcionario_nota >= 9 or vendas_f > meta_vendas_f and vendas_l > meta_loja: #or significa se a condição 1 (funcionario_nota >= 9) ou a condição 2 e (vendas_f > meta_f) e forem verdadeiras.\n",
    "    bonus = 0.03 * vendas_f\n",
    "    print(f'Funcionário recebeu um bônus de R$ {bonus} 3% sobre as vendas')\n",
    "else:\n",
    "    print(\"Funcionário não recebeu bônus\")\n"
   ]
  }
 ],
 "metadata": {
  "kernelspec": {
   "display_name": "Python 3",
   "language": "python",
   "name": "python3"
  },
  "language_info": {
   "codemirror_mode": {
    "name": "ipython",
    "version": 3
   },
   "file_extension": ".py",
   "mimetype": "text/x-python",
   "name": "python",
   "nbconvert_exporter": "python",
   "pygments_lexer": "ipython3",
   "version": "3.13.0"
  }
 },
 "nbformat": 4,
 "nbformat_minor": 4
}
