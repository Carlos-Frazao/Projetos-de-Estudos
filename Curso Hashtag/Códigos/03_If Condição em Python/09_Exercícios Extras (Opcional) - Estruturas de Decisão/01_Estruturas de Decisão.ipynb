{
 "cells": [
  {
   "cell_type": "markdown",
   "id": "8535c274",
   "metadata": {
    "id": "8535c274"
   },
   "source": [
    "# Estruturas de decisão\n",
    "\n",
    "<span style=\"color: red;\"><b>Todos os exercícios são feitos partindo-se do pressuposto de que todas as entradas são dadas de forma correta. Casos limite não mencionados no enunciado não são abordados porque não fazem parte do exercício.</b></span>"
   ]
  },
  {
   "cell_type": "markdown",
   "id": "9c3d817e",
   "metadata": {
    "id": "9c3d817e"
   },
   "source": [
    "#### 1. Faça um Programa que peça dois números e imprima o maior deles."
   ]
  },
  {
   "cell_type": "code",
   "execution_count": 6,
   "id": "ae45c028",
   "metadata": {
    "id": "ae45c028"
   },
   "outputs": [
    {
     "name": "stdout",
     "output_type": "stream",
     "text": [
      "O valor 9, é maior, cujo foi o segundo valor digitado.\n"
     ]
    }
   ],
   "source": [
    "n1 = int(input(\"Digite um número? \"))\n",
    "n2 = int(input(\"Digite outro número? \"))\n",
    "\n",
    "if n1 > n2:\n",
    "    print(f\"O valor {n1}, é maior, cujo foi o primeiro valor digitado.\")\n",
    "if n2 > n1:\n",
    "    print(f\"O valor {n2}, é maior, cujo foi o segundo valor digitado.\")\n"
   ]
  },
  {
   "cell_type": "markdown",
   "id": "ff510803",
   "metadata": {
    "id": "ff510803"
   },
   "source": [
    "#### 2. Faça um Programa que peça um valor e mostre na tela se o valor é positivo ou negativo."
   ]
  },
  {
   "cell_type": "code",
   "execution_count": 9,
   "id": "8952f58f",
   "metadata": {
    "id": "8952f58f"
   },
   "outputs": [
    {
     "name": "stdout",
     "output_type": "stream",
     "text": [
      "nega\n"
     ]
    }
   ],
   "source": [
    "v = float(input(\"Digite um valor: \"))\n",
    "if v > 1:\n",
    "    print(\"posi\") \n",
    "else:\n",
    "    print(\"nega\")\n"
   ]
  },
  {
   "cell_type": "markdown",
   "id": "6966546b",
   "metadata": {
    "id": "6966546b"
   },
   "source": [
    "#### 3. Faça um Programa que verifique o estado civil de uma pessoa. Se a letra digitada é \"C\" (Casado), \"S\" (Solteiro), \"D\" (Divorciado), \"V\" (Viúvo) ou \"O\" (outros). Conforme a letra escrita pelo usuário seu programa deve escrever o estado civil, exemplo:\n",
    "\n",
    "Usuário digita: C\n",
    "\n",
    "Seu programa deve responder:\n",
    "C - Casado"
   ]
  },
  {
   "cell_type": "code",
   "execution_count": 42,
   "id": "876a1e67",
   "metadata": {
    "id": "876a1e67"
   },
   "outputs": [
    {
     "name": "stdout",
     "output_type": "stream",
     "text": [
      "Seu estado civil é Casado!\n"
     ]
    }
   ],
   "source": [
    "estado_civil = str(input(\"Qual seu estado civil? \")).upper()\n",
    "\n",
    "if estado_civil == \"C\":\n",
    "     print(f\"Seu estado civil é Casado!\")\n",
    "elif estado_civil == \"S\":\n",
    "    print(f\"Seu estado civil é Solteiro!\")\n",
    "elif estado_civil == \"D\":\n",
    "    print(F\"Seu estado civil é Divorciado!\")\n",
    "elif estado_civil == \"V\":\n",
    "    print(f\"Seu estado civil é Viúvo!\")\n",
    "else:\n",
    "    print(F\"Seu estado civil é Outro? \")\n"
   ]
  },
  {
   "cell_type": "markdown",
   "id": "c122c0cf",
   "metadata": {
    "id": "c122c0cf"
   },
   "source": [
    "#### 4. Faça um Programa que verifique se o e-mail digitado faz parte dos e-mails de spam."
   ]
  },
  {
   "cell_type": "code",
   "execution_count": 4,
   "id": "59bed184",
   "metadata": {
    "id": "59bed184"
   },
   "outputs": [
    {
     "name": "stdout",
     "output_type": "stream",
     "text": [
      "Esse e-mail é spam\n"
     ]
    }
   ],
   "source": [
    "emails_spam = \"fulano@gmail.com,beltrano@gmail.com,ciclano@gmail.com\"\n",
    "\n",
    "email = str(input(\"Digite um email: \"))\n",
    "if email in emails_spam:\n",
    "    print(f\"Esse e-mail é spam\")\n",
    "else:\n",
    "    print(f\"Esse e-mail não é spam\")\n"
   ]
  },
  {
   "cell_type": "markdown",
   "id": "487ee073",
   "metadata": {
    "id": "487ee073"
   },
   "source": [
    "#### 5. Faça um programa para a leitura de duas notas parciais de um aluno. O programa deve calcular a média alcançada por aluno e apresentar:\n",
    "\n",
    "##### A mensagem \"Aprovado\", se a média alcançada for maior ou igual a sete;\n",
    "##### A mensagem \"Reprovado\", se a média for menor do que sete;\n",
    "##### A mensagem \"Aprovado com Distinção\", se a média for igual a dez."
   ]
  },
  {
   "cell_type": "code",
   "execution_count": 17,
   "id": "7f5c7096",
   "metadata": {
    "id": "7f5c7096"
   },
   "outputs": [
    {
     "name": "stdout",
     "output_type": "stream",
     "text": [
      "Reprovado com média 5.5\n"
     ]
    }
   ],
   "source": [
    "n1 = float(input(\"Digite a primeira nota: \"))\n",
    "n2 = float(input(\"Digite a segunda nota: \"))\n",
    "\n",
    "m = (n1 + n2) / 2\n",
    "\n",
    "if m == 10:\n",
    "    print(f\"Aprovado com distinção com média {m}\")\n",
    "elif m >= 7:\n",
    "    print(f\"Aprovado com média {m}\")\n",
    "else:\n",
    "    print(f\"Reprovado com média {m}\")\n"
   ]
  },
  {
   "cell_type": "markdown",
   "id": "6dd3f171",
   "metadata": {
    "id": "6dd3f171"
   },
   "source": [
    "#### 6. Faça um Programa que leia o orçamento de 3 empresas e mostre o maior deles."
   ]
  },
  {
   "cell_type": "code",
   "execution_count": null,
   "id": "51b591e5",
   "metadata": {
    "id": "51b591e5"
   },
   "outputs": [
    {
     "name": "stdout",
     "output_type": "stream",
     "text": [
      "A 3ª empresa tem o maior orçamento.\n"
     ]
    }
   ],
   "source": [
    "empre_1 = float(input(\"Digite o orçamento da 1ª empresa: \"))\n",
    "empre_2 = float(input(\"Digite o orçamento da 2ª empresa: \"))\n",
    "empre_3 = float(input(\"Digite o orçamento da 3ª empresa: \"))\n",
    "\n",
    "if empre_1 > empre_2 and empre_1 > empre_3:\n",
    "    print(f\"A 1ª empresa tem o maior orçamento.\")\n",
    "elif empre_2 > empre_1 and empre_2 > empre_3:\n",
    "    print(f\"A 2ª empresa tem o maior orçamento.\")\n",
    "elif empre_1 == empre_2 and empre_1 == empre_3 or empre_2 == empre_1 and empre_2 == empre_3 or empre_3 == empre_1 and empre_3 == empre_2:\n",
    "    print(f\"Todas as empresas tem o mesmo orçamento.\")\n",
    "else:\n",
    "    print(f\"A 3ª empresa tem o maior orçamento.\")\n"
   ]
  },
  {
   "cell_type": "markdown",
   "id": "ce09ed1c",
   "metadata": {
    "id": "ce09ed1c"
   },
   "source": [
    "#### 7. Faça um Programa que leia três orçamentos e mostre o maior e o menor deles."
   ]
  },
  {
   "cell_type": "code",
   "execution_count": 34,
   "id": "249f1eb8",
   "metadata": {
    "id": "249f1eb8"
   },
   "outputs": [
    {
     "name": "stdout",
     "output_type": "stream",
     "text": [
      "O maior orçamento é 80.0\n",
      "O menor orçamento é 9.0\n"
     ]
    }
   ],
   "source": [
    "orc_1 = float(input(\"Digite o orçamento: \"))\n",
    "orc_2 = float(input(\"Digite o orçamento: \"))\n",
    "orc_3 = float(input(\"Digite o orçamento: \"))\n",
    "\n",
    "#Maior orçamento.\n",
    "if orc_1  > orc_2 and orc_1 > orc_3:\n",
    "    print(f\"O maior orçamento é {orc_1}\")\n",
    "elif orc_2 > orc_1 and orc_2 > orc_3:\n",
    "    print(f\"O maior orçamento é {orc_2}\")\n",
    "else:\n",
    "    print(f\"O maior orçamento é {orc_3}\")\n",
    "\n",
    "#Menor orçamento.\n",
    "if orc_1 < orc_2 and orc_1 < orc_3:\n",
    "    print(f\"O menor orçamento é {orc_1}\")\n",
    "elif orc_2 < orc_1 and orc_2 < orc_3:\n",
    "    print(f\"O menor orçamento é {orc_2}\")\n",
    "else:\n",
    "    print(f\"O menor orçamento é {orc_3}\")\n"
   ]
  },
  {
   "cell_type": "markdown",
   "id": "7453d43a",
   "metadata": {
    "id": "7453d43a"
   },
   "source": [
    "#### 8. Faça um programa que pergunte o preço de três produtos e informe qual produto você deve comprar, sabendo que a decisão é sempre pelo mais barato."
   ]
  },
  {
   "cell_type": "code",
   "execution_count": null,
   "id": "26a9503e",
   "metadata": {
    "id": "26a9503e"
   },
   "outputs": [
    {
     "name": "stdout",
     "output_type": "stream",
     "text": [
      "O produto 1 é o mais barato, custando R$100.00\n"
     ]
    }
   ],
   "source": [
    "p1 = float(input(\"Digite o preço do 1º produto: \"))\n",
    "p2 = float(input(\"Digite o preço do 2º produto: \"))\n",
    "p3 = float(input(\"Digite o preço do 3º produto: \"))\n",
    "\n",
    "#Menor preço.\n",
    "if p1 < p2 and p1 < p3:\n",
    "    print(f\"O produto 1 é o mais barato, custando R${p1:.2f}\")\n",
    "elif p2 < p1 and p2 < p3:\n",
    "    print(f\"O produto 2 é o mais barato, custando R${p2:.2f}\")\n",
    "else:\n",
    "    print(f\"O produto 3 é o mais barato, custando R${p3:.2f}\")\n"
   ]
  },
  {
   "cell_type": "markdown",
   "id": "9ade258f",
   "metadata": {
    "id": "9ade258f"
   },
   "source": [
    "#### 9. Faça um Programa que leia três números e mostre-os em ordem decrescente."
   ]
  },
  {
   "cell_type": "code",
   "execution_count": 6,
   "id": "f194c39e",
   "metadata": {
    "id": "f194c39e"
   },
   "outputs": [
    {
     "name": "stdout",
     "output_type": "stream",
     "text": [
      "O maior número é 16.0\n",
      "O segundo maior número é 9.0\n",
      "O terceiro maior número é 3.0\n"
     ]
    }
   ],
   "source": [
    "n1 = float(input(\"Digite um número: \"))\n",
    "n2 = float(input(\"Digite outro número: \"))\n",
    "n3 = float(input(\"Digite outro número: \"))\n",
    "\n",
    "#Ordem decrescente.\n",
    "if n1 > n2 and n1 > n3:\n",
    "    print(\"O maior número é\", n1)\n",
    "    if n2 > n3:\n",
    "        print(\"O segundo maior número é\", n2)\n",
    "        print(\"O terceiro maior número é\", n3)\n",
    "    else:\n",
    "        print(\"O segundo maior número é\", n2)\n",
    "        print(\"O o terceiro maior número é\", n3)\n",
    "elif n2 > n1 and n2 > n3:\n",
    "    print(\"O maior número é\", n2)\n",
    "    if n1 > n3:\n",
    "        print(\"O segundo maior número é\", n1)\n",
    "        print(\"O terceiro maior número é\", n3)\n",
    "    else:\n",
    "        print(\"O segundo maior número é\", n1)\n",
    "        print(\"O terceiro maior número é\", n3)\n",
    "elif n3 > n1 and n3 > n2:\n",
    "    print(\"O maior número é\", n3)\n",
    "    if n1 > n2:\n",
    "        print(\"O segundo maior número é\", n1)\n",
    "    else:\n",
    "        print(\"O terceiro maior número é\", n2)\n"
   ]
  },
  {
   "cell_type": "markdown",
   "id": "d06e2fe8",
   "metadata": {
    "id": "d06e2fe8"
   },
   "source": [
    "#### 10. Faça um Programa que pergunte em que turno você estuda. Peça para digitar M-matutino ou V-Vespertino ou N- Noturno. Imprima a mensagem \"Bom Dia!\", \"Boa Tarde!\" ou \"Boa Noite!\" ou \"Valor Inválido!\", conforme o caso."
   ]
  },
  {
   "cell_type": "code",
   "execution_count": 24,
   "id": "1eb36141",
   "metadata": {
    "id": "1eb36141"
   },
   "outputs": [
    {
     "name": "stdout",
     "output_type": "stream",
     "text": [
      "M - Matutino. \n",
      "V - Vespertino. \n",
      "N - Noturno.\n",
      "Valor inválido!\n"
     ]
    }
   ],
   "source": [
    "print(\"M - Matutino. \\nV - Vespertino. \\nN - Noturno.\")\n",
    "turno = str(input(\"Qual turno você estuda? \")).upper()\n",
    "if turno == \"M\" or turno == \"MATUTINO\":\n",
    "    print(\"Bom dia!\")\n",
    "elif turno == \"V\" or turno == \"VESPERTINO\":\n",
    "    print(\"Boa tarde!\")\n",
    "elif turno == \"N\" or turno == \"NOTURNO\":\n",
    "    print(\"Boa noite!\")\n",
    "else:\n",
    "    print(\"Valor inválido!\")\n"
   ]
  },
  {
   "cell_type": "markdown",
   "id": "4864b755",
   "metadata": {
    "id": "4864b755"
   },
   "source": [
    "#### 11. As Organizações Tabajara resolveram dar um aumento de salário aos seus colaboradores e lhe contraram para desenvolver o programa que calculará os reajustes. Faça um programa que recebe o salário de um colaborador e o reajuste segundo o seguinte critério, baseado no salário atual:\n",
    "\n",
    "##### salários até R\\\\$ 280,00 (incluindo) : aumento de 20% \n",
    "\n",
    "##### salários entre R\\\\$ 280,00 e R\\\\$ 700,00 : aumento de 15% \n",
    "\n",
    "##### salários entre R\\\\$ 700,00 e R\\\\$ 1500,00 : aumento de 10% \n",
    "\n",
    "##### salários de R\\\\$ 1500,00 em diante : aumento de 5% Após o aumento ser realizado, informe na tela: \n",
    "\n",
    "###### o salário antes do reajuste;\n",
    "\n",
    "###### o percentual de aumento aplicado;\n",
    "\n",
    "###### o valor do aumento;\n",
    "\n",
    "###### o novo salário, após o aumento.\n",
    "\n",
    "###### Obs: Não vamos nos preocupar tanto com a formatação dos números (nº de casas decimais, por exemplo, veremos isso no próximo módulo)"
   ]
  },
  {
   "cell_type": "code",
   "execution_count": 27,
   "id": "f0d34916",
   "metadata": {
    "id": "f0d34916"
   },
   "outputs": [
    {
     "name": "stdout",
     "output_type": "stream",
     "text": [
      "==========Organizações Tabajara==========\n",
      "O salário antes do reajuste: R$1512.0\n",
      "O percentual de aumento aplicado foi de 5%\n",
      "O valor do aumento foi de R$75.60000000000001\n",
      "O novo salário é de R$1587.6\n"
     ]
    }
   ],
   "source": [
    "print(\"==========Organizações Tabajara==========\")\n",
    "salario_atual = float(input(\"Digite o salário atual: R$: \"))\n",
    "salario_r = 0\n",
    "#Reajuste salarial.\n",
    "\n",
    "if salario_atual <= 280:\n",
    "    salario_atual * 0.20\n",
    "    print(f\"O salário antes do reajuste: R${salario_atual:.2f}\")\n",
    "    print(f\"O percentual de aumento aplicado foi de 20%\")\n",
    "    print(f\"O valor do aumento foi de R${salario_atual * 0.20}\")\n",
    "    print(f\"O novo salário é de R${salario_atual + salario_atual * 0.20}\")\n",
    "elif salario_atual > 280 and salario_atual <= 700:\n",
    "    salario_atual * 0.15\n",
    "    print(f\"O salário amtes do reajuste: R${salario_atual}\")\n",
    "    print(f\"O percentual de aumento aplicado foi de 15%\")\n",
    "    print(f\"P valor do aumento foi de R${salario_atual * 0.15}\")\n",
    "    print(f\"O novo salário é de R${salario_atual + salario_atual * 0.15}\")\n",
    "elif salario_atual > 700 and salario_atual <= 1500:\n",
    "    salario_atual * 0.10\n",
    "    print(f\"O salário antes do reajuste: R${salario_atual}\")\n",
    "    print(f\"O percentual de aumento aplicado foi de 10%\")\n",
    "    print(f\"O valor do aumento foi de R${salario_atual * 0.10}\")\n",
    "    print(f\"O novo salário é de R${salario_atual + salario_atual * 0.10}\")  \n",
    "else:\n",
    "    salario_atual * 0.05\n",
    "    print(f\"O salário antes do reajuste: R${salario_atual}\")\n",
    "    print(f\"O percentual de aumento aplicado foi de 5%\")\n",
    "    print(f\"O valor do aumento foi de R${salario_atual * 0.05}\")\n",
    "    print(f\"O novo salário é de R${salario_atual + salario_atual * 0.05}\")\n"
   ]
  },
  {
   "cell_type": "markdown",
   "id": "b037f1e8",
   "metadata": {
    "id": "b037f1e8"
   },
   "source": [
    "#### 12 . Faça um programa para o cálculo de uma folha de pagamento, sabendo que os descontos são do Imposto de Renda, que depende do salário bruto (conforme tabela abaixo) e que o FGTS corresponde a 11% do Salário Bruto, mas não é descontado (é a empresa que deposita). O Salário Líquido corresponde ao Salário Bruto menos os descontos. O programa deverá pedir ao usuário o valor da sua hora e a quantidade de horas trabalhadas no mês.\n",
    "\n",
    "Desconto do IR:<br>\n",
    "Salário Bruto até 900 (inclusive) - isento<br>\n",
    "Salário Bruto até 1500 (inclusive) - desconto de 5%<br>\n",
    "Salário Bruto até 2500 (inclusive) - desconto de 10%<br>\n",
    "Salário Bruto acima de 2500 - desconto de 20%<br>\n",
    "Imprima na tela as informações, dispostas conforme o exemplo abaixo. No exemplo o valor da hora é 5 e a quantidade de hora é 220.\n",
    "\n",
    "Salário Bruto: (5 * 220)        : R\\\\$ 1100,00<br>\n",
    "(-) IR (5%)                     : R\\\\$   55,00<br>\n",
    "(-) INSS ( 10%)                 : R\\\\$  110,00<br>\n",
    "FGTS (11%)                      : R\\\\$  121,00<br>\n",
    "Total de descontos              : R\\\\$  165,00<br>\n",
    "Salário Liquido                 : R\\\\$  935,00<br>\n",
    "\n",
    "###### Obs: Não vamos nos preocupar tanto com a formatação dos números (nº de casas decimais, por exemplo, veremos isso no próximo módulo)"
   ]
  },
  {
   "cell_type": "code",
   "execution_count": 1,
   "id": "dad18bb2",
   "metadata": {
    "id": "dad18bb2"
   },
   "outputs": [
    {
     "name": "stdout",
     "output_type": "stream",
     "text": [
      "==========FOLHA DE PAGAMENTO==========\n",
      "Salário bruto: R$ 3300.0\n",
      "(-) IR (5%): R$ 165.0\n",
      "(-) INSS (10%): R$ 330.0\n",
      "FGTS (11$): R$ 363.0\n",
      "Toatal de descontos 495.0\n",
      "Salário líquido: R$ 2805.0\n"
     ]
    }
   ],
   "source": [
    "print(\"==========FOLHA DE PAGAMENTO==========\") \n",
    "valor_horas_trabalhadas = float(input(\"Quanto você ganha por hora: \"))\n",
    "horas_t_mes = float(input(\"Quantas horas você trabalha por mês: \"))\n",
    "\n",
    "salario = valor_horas_trabalhadas * horas_t_mes\n",
    "\n",
    "if salario <= 900:\n",
    "    ir = 0\n",
    "    print(f\"Salário bruto: R$ {salario}\")\n",
    "    print(f\"(-) IR (Isento): R$ {ir}\")\n",
    "    print(f\"(-) INSS (10%): R$ {salario * 0.10}\")\n",
    "    print(f\"FGTS (11%): R$ {salario * 0.11}\")\n",
    "    print(f\"Toal de descontos: R$ {salario * 0.5 + salario * 0.10}\")\n",
    "    print(f\"Salário líquido: R$ {salario - (salario * 0.5 + salario * 0.10)}\")\n",
    "elif salario > 900 and salario <= 1500:\n",
    "    ir = salario * 0.05\n",
    "    print(f\"Salário bruto: R$ {salario}\")\n",
    "    print(f\"(-) IR (5%): R$ {salario * 0.05}\")\n",
    "    print(f\"(-) INSS (10%): R$ {salario * 0.10}\")\n",
    "    print(f\"FGTS (11%): R$ {salario * 0.11}\")\n",
    "    print(F\"Total de descontos: R$ {salario * 0.05 + salario * 0.10}\")\n",
    "    print(F\"Salário líquido: R$ {salario - (salario * 0.05 + salario * 0.10)}\")\n",
    "elif salario > 1500 and salario <= 2500:\n",
    "    print(f\"Salário bruto: R$ {salario}\")\n",
    "    print(f\"(-) IR (5%): R$ {salario * 0.05}\")\n",
    "    print(f\"(-) INSS (10%): R$ {salario * 0.10}\")\n",
    "    print(f\"FGTS (11%): R$ {salario * 0.11}\")\n",
    "    print(f\"Total de descontos: R${salario * 0.05 + salario * 0.10}\")\n",
    "    print(f\"Salário líquido: R$ {salario - (salario * 0.05 + salario * 0.10)}\")\n",
    "else:\n",
    "    print(f\"Salário bruto: R$ {salario}\")\n",
    "    print(f\"(-) IR (5%): R$ {salario * 0.05}\")\n",
    "    print(f\"(-) INSS (10%): R$ {salario * 0.10}\")\n",
    "    print(f\"FGTS (11$): R$ {salario * 0.11}\")\n",
    "    print(f\"Toatal de descontos {salario * 0.05 + salario * 0.10}\")\n",
    "    print(f\"Salário líquido: R$ {salario - (salario * 0.05 + salario * 0.10)}\")\n"
   ]
  },
  {
   "cell_type": "markdown",
   "id": "814fc211",
   "metadata": {
    "id": "814fc211"
   },
   "source": [
    "#### 13. Faça um Programa que leia um número e exiba o dia correspondente da semana. (1-Domingo, 2- Segunda, etc.), se digitar outro valor deve aparecer valor inválido."
   ]
  },
  {
   "cell_type": "code",
   "execution_count": 5,
   "id": "f2c2b8d8",
   "metadata": {
    "id": "f2c2b8d8"
   },
   "outputs": [
    {
     "name": "stdout",
     "output_type": "stream",
     "text": [
      "Sabado\n"
     ]
    }
   ],
   "source": [
    "n = int(input(\"Digite um número correspondente da semana ex:1-Domingo, 2- Segunda, etc.\"))\n",
    "if n == 1:\n",
    "    print(\"Domingo\")\n",
    "elif n == 2:\n",
    "    print(\"Segunda-Feira\")\n",
    "elif n == 3:\n",
    "    print(\"Terça-Feira\")\n",
    "elif n == 4:\n",
    "    print(\"Quarta-Feira\")\n",
    "elif n == 5:\n",
    "    print(\"Quinta-Feira\")\n",
    "elif  n == 6:\n",
    "    print(\"Sexta-Feira\")\n",
    "elif n == 7:\n",
    "    print(\"Sabado\")\n",
    "else:\n",
    "    print(\"Valor inválido\")\n"
   ]
  },
  {
   "cell_type": "markdown",
   "id": "6e5f461e",
   "metadata": {
    "id": "6e5f461e"
   },
   "source": [
    "#### 14. Faça um programa que lê as duas notas parciais obtidas por um aluno numa disciplina ao longo de um semestre, e calcule a sua média. Em seguida, mostre qual conceito o aluno teve. A atribuição de conceitos obedece à tabela abaixo:\n",
    "<pre>\n",
    "Média de Aproveitamento  Conceito\n",
    "Entre 9.0 e 10.0        A\n",
    "Entre 7.5 e 9.0         B\n",
    "Entre 6.0 e 7.5         C\n",
    "Entre 4.0 e 6.0         D\n",
    "Entre 4.0 e zero        E\n",
    "</pre>"
   ]
  },
  {
   "cell_type": "code",
   "execution_count": 11,
   "id": "29721a43",
   "metadata": {
    "id": "29721a43"
   },
   "outputs": [
    {
     "name": "stdout",
     "output_type": "stream",
     "text": [
      "Média 9.0, e a média de aproveitamento foi de 9.0 á 10.0. Conceito (A)\n"
     ]
    }
   ],
   "source": [
    "n1 = float(input(\"Digite a prineira nota: \"))\n",
    "n2 = float(input(\"Digite a segunda nota:\"))\n",
    "\n",
    "m = (n1 + n2) / 2\n",
    "\n",
    "if m >= 9.0 and m < 10.0:\n",
    "    print(f\"Média {m}, e a média de aproveitamento foi de 9.0 á 10.0. Conceito (A)\")\n",
    "elif m > 7.5 and m < 9.0:\n",
    "    print(f\"Média {m}, e a média de aproveitamento foi de 7.5 á 9.0. Conceito (B)\")\n",
    "elif m > 6.0 and m <= 7.5:\n",
    "    print(f\"Média {m}, e a média de aproveitamento foi de 6.0 á 7.5. Conceito (C)\")\n",
    "elif m > 4.0 and m <= 6.0:\n",
    "    print(f\"Média {m}, e a média de aproveitamento foi de 4.0 á 6.0. Conceito (D)\")\n",
    "else:\n",
    "    print(f\"Média {m}, e a média de aproveitamento foi de 0.0 á 4.0. Conceito (E)\")\n"
   ]
  },
  {
   "cell_type": "markdown",
   "id": "e6b3bcaf",
   "metadata": {
    "id": "e6b3bcaf"
   },
   "source": [
    "#### 15. Você está construindo um calendário para controlar dias de trabalho a pedido do RH. Nessa construção, você vai precisar definir quais anos são bissextos e quais não são, para montar o calendário de forma correta. Faça um Programa que peça um número correspondente a um determinado ano e em seguida informe se este ano é ou não bissexto.\n",
    "<pre>\n",
    "Dica para determinar se um ano é bissexto: \n",
    "- São bissextos todos os anos múltiplos de 400, p.ex.: 1600, 2000, 2400, 2800...\n",
    "- São bissextos todos os múltiplos de 4, exceto se for múltiplo de 100 mas não de 400, \n",
    "p.ex.: 1996, 2000, 2004, 2008, 2012, 2016, 2020, 2024, 2028...\n",
    "- Não são bissextos todos os demais anos.<br>\n",
    "ex1: 2004 é múltiplo de 4, mas não é múltiplo de 100, então é bissexto.\n",
    "ex2: 2000 é múltiplo de 4, mas é múltiplo de 100, só que também é multiplo de 400, então é bissexto (porque todo ano múltiplo de 400 é bissexto, independente do resto).\n",
    "ex3: 1900 é múltiplo de 4, é múltiplo de 100, mas não é múltiplo de 400, então não é bissexto\n",
    "\n",
    "</pre>\n",
    "\n",
    "Dica: lembre que: numero % 4 é o resto da divisão do número por 4, ex: 10 % 3 = 1 (já que 10/3 = 3 e resta 1)"
   ]
  },
  {
   "cell_type": "code",
   "execution_count": null,
   "id": "56af223f",
   "metadata": {
    "id": "56af223f"
   },
   "outputs": [],
   "source": [
    "print(\"==========CALENDÁRIO==========\")\n",
    "ano = int(input(\"Digite um ano: \"))\n",
    "\n",
    "if ano \n",
    "\n",
    "#Difícil dms...\n",
    "#kskskskskk...\n",
    "\n",
    "\n",
    "\n",
    "\n",
    "\n",
    "\n",
    "\n"
   ]
  },
  {
   "cell_type": "markdown",
   "id": "9fe532c8",
   "metadata": {
    "id": "9fe532c8"
   },
   "source": [
    "#### 16. Faça um Programa para leitura de três notas parciais de um aluno. O programa deve calcular a média alcançada por aluno e presentar:\n",
    "<pre>\n",
    "A mensagem \"Aprovado\", se a média for maior ou igual a 7, com a respectiva média alcançada;\n",
    "A mensagem \"Reprovado\", se a média for menor do que 7, com a respectiva média alcançada;\n",
    "A mensagem \"Aprovado com Distinção\", se a média for igual a 10.\n",
    "</pre>"
   ]
  },
  {
   "cell_type": "code",
   "execution_count": null,
   "id": "1a56e99f",
   "metadata": {
    "id": "1a56e99f"
   },
   "outputs": [
    {
     "name": "stdout",
     "output_type": "stream",
     "text": [
      "Aprovado  com média 9.666666666666666\n"
     ]
    }
   ],
   "source": [
    "n1 = float(input(\"Digite a primeira nota: \"))\n",
    "n2 = float(input(\"Digite a segunda nota: \"))\n",
    "n3 = float(input(\"Digite a terceira nota: \"))\n",
    "\n",
    "m = (n1 + n2 + n3) / 3\n",
    "\n",
    "if m == 10.0:\n",
    "    print(f\"Aprovado com distinção com média {m}\")\n",
    "elif m >= 7.0:\n",
    "    print(f\"Aprovado com média {m}\")\n",
    "else:\n",
    "    print(f\"Reprovado com média {m}\")\n"
   ]
  },
  {
   "cell_type": "markdown",
   "id": "d544412e",
   "metadata": {
    "id": "d544412e"
   },
   "source": [
    "#### 17. João Papo-de-Pescador, homem de bem, comprou um microcomputador para controlar o rendimento diário de seu trabalho. Toda vez que ele traz um peso de peixes maior que o estabelecido pelo regulamento de pesca do estado de São Paulo (50 quilos) deve pagar uma multa de R$ 4,00 por quilo excedente. João precisa que você faça um programa que leia a variável peso (peso de peixes) e calcule o excesso. Gravar na variável excesso a quantidade de quilos além do limite e na variável multa o valor da multa que João deverá pagar. Imprima os dados do programa com as mensagens adequadas."
   ]
  },
  {
   "cell_type": "code",
   "execution_count": 15,
   "id": "971ed027",
   "metadata": {
    "id": "971ed027"
   },
   "outputs": [
    {
     "name": "stdout",
     "output_type": "stream",
     "text": [
      "O peso excedente foi de 1.0kg\n",
      "O valor da multa foi de R$4.0\n"
     ]
    }
   ],
   "source": [
    "peso_peixe = float(input(\"Digite o peso do peixe: \"))\n",
    "\n",
    "if peso_peixe > 50:\n",
    "    excesso = peso_peixe - 50\n",
    "    multa = excesso * 4\n",
    "    print(f\"O peso excedente foi de {excesso}kg\")\n",
    "    print(f\"O valor da multa foi de R${multa}\")\n",
    "else:\n",
    "    print(\"O peso está dentro do regulamento.\")\n"
   ]
  },
  {
   "cell_type": "markdown",
   "id": "0e5256e0",
   "metadata": {
    "id": "0e5256e0"
   },
   "source": [
    "#### 18. Faça um Programa para um caixa eletrônico. O programa deverá perguntar ao usuário a valor do saque e depois informar quantas notas de cada valor serão fornecidas. As notas disponíveis serão as de 1, 5, 10, 50 e 100 reais. O valor mínimo é de 10 reais e o máximo de 600 reais. O programa não deve se preocupar com a quantidade de notas existentes na máquina.\n",
    "<pre>\n",
    "Exemplo 1: Para sacar a quantia de 256 reais, o programa fornece duas notas de 100, uma nota de 50, uma nota de 5 e uma nota de 1;\n",
    "Exemplo 2: Para sacar a quantia de 399 reais, o programa fornece três notas de 100, uma nota de 50, quatro notas de 10, uma nota de 5 e quatro notas de 1.\n",
    "</pre>\n",
    "\n",
    "Dica1: numero // 10 vai te dar como resposta a parte inteira da divisão do número por 10.<br>\n",
    "Dica2: numero % 10 vai te dar o resto da divisão do número por 10."
   ]
  },
  {
   "cell_type": "code",
   "execution_count": 16,
   "id": "9b4244c7",
   "metadata": {
    "id": "9b4244c7"
   },
   "outputs": [
    {
     "name": "stdout",
     "output_type": "stream",
     "text": [
      "Total de cédulas de R$50: 5\n",
      "Total de cédulas de R$10: 0\n",
      "Total de cédulas de R$5: 1\n",
      "Total de cédulas de R$1: 1\n"
     ]
    }
   ],
   "source": [
    "saque = int(input(\"Digite o valor do saque: \"))\n",
    "if saque >= 10 and saque <= 600:\n",
    "    cedulas_50 = saque // 50\n",
    "    saque = saque % 50\n",
    "    cedulas_10 = saque // 10\n",
    "    saque = saque % 10\n",
    "    cedulas_5 = saque // 5\n",
    "    saque = saque % 5\n",
    "    cedulas_1 = saque // 1\n",
    "    print(f\"Total de cédulas de R$50: {cedulas_50}\")\n",
    "    print(f\"Total de cédulas de R$10: {cedulas_10}\")\n",
    "    print(f\"Total de cédulas de R$5: {cedulas_5}\")\n",
    "    print(f\"Total de cédulas de R$1: {cedulas_1}\")\n",
    "else:\n",
    "    print(\"Valor inválido.\")\n",
    "#Gabarito.\n"
   ]
  },
  {
   "cell_type": "markdown",
   "id": "cba47494",
   "metadata": {
    "id": "cba47494"
   },
   "source": [
    "#### 19. Faça um programa que faça 5 perguntas para uma pessoa sobre um crime. As perguntas são:\n",
    "<pre>\n",
    "\"Telefonou para a vítima?\"\n",
    "\"Esteve no local do crime?\"\n",
    "\"Mora perto da vítima?\"\n",
    "\"Devia para a vítima?\"\n",
    "\"Já trabalhou com a vítima?\" \n",
    "O programa deve no final emitir uma classificação sobre a participação da pessoa no crime. Se a pessoa responder positivamente a 2 questões ela deve ser classificada como \"Suspeita\", entre 3 e 4 como \"Cúmplice\" e 5 como \"Assassino\". Caso contrário, ele será classificado como \"Inocente\".\n",
    "</pre>"
   ]
  },
  {
   "cell_type": "code",
   "execution_count": 30,
   "id": "5fdf9b88",
   "metadata": {
    "id": "5fdf9b88"
   },
   "outputs": [
    {
     "name": "stdout",
     "output_type": "stream",
     "text": [
      "Assasino\n"
     ]
    }
   ],
   "source": [
    "tele = str(input(\"Telefonou para a vítima? \")).upper()\n",
    "loca = str(input(\"Esteve no loca do crime? \")).upper()\n",
    "morada = str(input(\"Mora perto da vítima? \")).upper()   \n",
    "devia = str(input(\"Devia para a vítima? \")).upper() \n",
    "trab = str(input(\"Já trabalhou com a vítima? \")).upper()\n",
    "if tele == \"S\" or  tele == \"SIM\" or loca == \"S\" and loca == \"SIM\" and morada == \"S\" or morada == \"SIM\" and devia == \"S\" or devia == \"SIM\" and trab == \"S\" or trab == \"SIM\":\n",
    "    print(\"Assasino\")\n",
    "elif tele == \"S\" or tele == \"SIM\" or loca == \"S\" or loca == \"SIM\" and morada == \"S\" or morada == \"SIM\" or devia == \"S\" or devia == \"SIM\" or trab == \"S\" or trab == \"SIM\":\n",
    "    print(\"Cúmplice\")\n",
    "elif tele == \"S\" or tele == \"SIM\" or loca == \"S\" or loca == \"SIM\" and morada == \"S\" or morada == \"SIM\" or devia == \"S\" or devia == \"SIM\" or trab == \"S\" or trab == \"SIM\":\n",
    "    print(\"Cúmplice\")\n",
    "else:\n",
    "    print(\"Inocente\")\n"
   ]
  },
  {
   "cell_type": "markdown",
   "id": "18901e98",
   "metadata": {
    "id": "18901e98"
   },
   "source": [
    "#### 20. Um posto está vendendo combustíveis com a seguinte tabela de descontos:\n",
    "<pre>\n",
    "Álcool:\n",
    "até 20 litros, desconto de 3% por litro\n",
    "acima de 20 litros, desconto de 5% por litro\n",
    "Gasolina:\n",
    "até 20 litros, desconto de 4% por litro\n",
    "acima de 20 litros, desconto de 6% por litro\n",
    "\n",
    "Escreva um algoritmo que leia o número de litros vendidos, o tipo de combustível (codificado da seguinte forma: A-álcool, G-gasolina), calcule e imprima o valor a ser pago pelo cliente sabendo-se que o preço do litro da gasolina é R$ 2,50 o preço do litro do álcool é R$ 1,90.\n",
    "</pre>"
   ]
  },
  {
   "cell_type": "code",
   "execution_count": null,
   "id": "a1fd8c38",
   "metadata": {
    "id": "a1fd8c38"
   },
   "outputs": [],
   "source": []
  },
  {
   "cell_type": "markdown",
   "id": "be0f8f32",
   "metadata": {
    "id": "be0f8f32"
   },
   "source": [
    "#### 21. Uma fruteira está vendendo frutas com a seguinte tabela de preços:\n",
    "<pre>\n",
    "                      Até 5 Kg           Acima de 5 Kg\n",
    "Morango         R$ 2,50 por Kg          R$ 2,20 por Kg\n",
    "Maçã            R$ 1,80 por Kg          R$ 1,50 por Kg\n",
    "Se o cliente comprar mais de 8 Kg em frutas ou o valor total da compra ultrapassar R$ 25,00, receberá ainda um desconto de 10% sobre este total. Escreva um algoritmo para ler a quantidade (em Kg) de morangos e a quantidade (em Kg) de maças adquiridas e escreva o valor a ser pago pelo cliente.\n",
    "</pre>"
   ]
  },
  {
   "cell_type": "code",
   "execution_count": null,
   "id": "35c47c8e",
   "metadata": {
    "id": "35c47c8e"
   },
   "outputs": [],
   "source": []
  },
  {
   "cell_type": "markdown",
   "id": "4dbd53ed",
   "metadata": {
    "id": "4dbd53ed"
   },
   "source": [
    "#### 22. O Hipermercado Tabajara está com uma promoção de carnes que é imperdível. Confira:\n",
    "<pre>\n",
    "                      Até 5 Kg           Acima de 5 Kg\n",
    "File Duplo      R$ 4,90 por Kg          R$ 5,80 por Kg\n",
    "Alcatra         R$ 5,90 por Kg          R$ 6,80 por Kg\n",
    "Picanha         R$ 6,90 por Kg          R$ 7,80 por Kg\n",
    "Para atender a todos os clientes, cada cliente poderá levar apenas um dos tipos de carne da promoção, porém não há limites para a quantidade de carne por cliente. Se compra for feita no cartão Tabajara o cliente receberá ainda um desconto de 5% sobre o total da compra. Escreva um programa que peça o tipo e a quantidade de carne comprada pelo usuário e gere um cupom fiscal, contendo as informações da compra: tipo e quantidade de carne, preço total, tipo de pagamento, valor do desconto e valor a pagar.\n",
    "</pre>"
   ]
  },
  {
   "cell_type": "code",
   "execution_count": null,
   "id": "15a77357",
   "metadata": {
    "id": "15a77357"
   },
   "outputs": [],
   "source": []
  },
  {
   "cell_type": "markdown",
   "id": "b949545b",
   "metadata": {
    "id": "b949545b"
   },
   "source": [
    "#### 23. Faça um Programa para uma loja de tintas. O programa deverá pedir o tamanho em metros quadrados da área a ser pintada. Considere que a cobertura da tinta é de 1 litro para cada 6 metros quadrados e que a tinta é vendida em latas de 18 litros, que custam R\\\\$ 80,00 ou em galões de 3,6 litros, que custam R\\\\$ 25,00."
   ]
  },
  {
   "cell_type": "code",
   "execution_count": null,
   "id": "b11185b0",
   "metadata": {
    "id": "b11185b0"
   },
   "outputs": [],
   "source": [
    "area = float(input('Informe o tamanho da área a ser pintada em m²: '))\n",
    "litros_tinta = area / 6"
   ]
  },
  {
   "cell_type": "markdown",
   "id": "b3d0598f",
   "metadata": {
    "id": "b3d0598f"
   },
   "source": [
    "##### Informe ao usuário as quantidades de tinta a serem compradas e os respectivos preços em 3 situações.\n",
    "\n",
    "Dica: lembre dos operadores // e % mostrados em exercícios anteriores<br>\n",
    "Dica1: numero // 10 vai te dar como resposta a parte inteira da divisão do número por 10.<br>\n",
    "Dica2: numero % 10 vai te dar o resto da divisão do número por 10.\n",
    "\n",
    "##### 1. Comprar apenas latas de 18 litros: (apenas latas inteiras)"
   ]
  },
  {
   "cell_type": "code",
   "execution_count": null,
   "id": "ed599d53",
   "metadata": {
    "id": "ed599d53"
   },
   "outputs": [],
   "source": []
  },
  {
   "cell_type": "markdown",
   "id": "ab03bc10",
   "metadata": {
    "id": "ab03bc10"
   },
   "source": [
    "##### 2. Comprar apenas galões de 3,6 litros: (apenas galoes inteiros)"
   ]
  },
  {
   "cell_type": "code",
   "execution_count": null,
   "id": "542f4a77",
   "metadata": {
    "id": "542f4a77"
   },
   "outputs": [],
   "source": []
  },
  {
   "cell_type": "markdown",
   "id": "8Jbw7RupH9Nc",
   "metadata": {
    "id": "8Jbw7RupH9Nc"
   },
   "source": [
    "##### 3. Misturar latas e galões, de forma que o desperdício de tinta seja menor. Acrescente 10% de folga e sempre arredonde os valores para cima, isto é, considere latas cheias."
   ]
  },
  {
   "cell_type": "markdown",
   "id": "93d4157b",
   "metadata": {
    "id": "93d4157b"
   },
   "source": [
    "O custo da lata é 80/18 = 4,44 R\\\\$/L\n",
    "\n",
    "O custo do galão é 25/3,6 = 6,94 R\\\\$/L\n",
    "\n",
    "A lata é mais econômica, então todas as latas inteiras que pudermos usar devemos comprar em latas. Se ficar faltando alguma coisa para completar devemos avaliar se é melhor comprar latas ou galões. Exemplo:\n",
    "\n",
    "Se queremos comprar 90 litros. 5 latas dão exatamente 90 litros. Então devemos comprar tudo em latas.\n",
    "\n",
    "Se queremos comprar 95 litros. 5 latas dão exatamente 90 litros. Então devemos comprar pelo menos 5 latas e avaliar o que falta, se estes últimos 5 litros valem mais apenas em latas ou galões.\n",
    "\n",
    "Para os 5 litros faltantes precisamos de 2 galões que custam 50 reais no total. Ou de uma lata que custa 80 reais no total. Portanto, neste caso vale mais a pena usar 2 galões.\n",
    "\n",
    "Se queremos comprar 107 litros. 5 latas dão exatamente 90 litros. Então devemos comprar pelo menos 5 latas e avaliar o que falta, se estes últimos 5 litros valem mais apenas em latas ou galões.\n",
    "\n",
    "Para os 17 litros faltantes precisamos de 5 galões que custam 125 reais no total. Ou de uma lata que custa 80 reais no total. Portanto, neste caso vale mais a pena usar uma lata.\n",
    "\n",
    "3 galões custam 75 reais, 4 galões custam 100 reais. Então, se for possível completar com até 3 galões escolhe-se galões. Qualquer quantidade maior que 3 galões, usa-se latas.\n",
    "\n",
    "Podemos ir ao exercício:"
   ]
  },
  {
   "cell_type": "code",
   "execution_count": null,
   "id": "01d104b6",
   "metadata": {
    "id": "01d104b6"
   },
   "outputs": [],
   "source": []
  }
 ],
 "metadata": {
  "colab": {
   "provenance": []
  },
  "kernelspec": {
   "display_name": "base",
   "language": "python",
   "name": "python3"
  },
  "language_info": {
   "codemirror_mode": {
    "name": "ipython",
    "version": 3
   },
   "file_extension": ".py",
   "mimetype": "text/x-python",
   "name": "python",
   "nbconvert_exporter": "python",
   "pygments_lexer": "ipython3",
   "version": "3.12.7"
  }
 },
 "nbformat": 4,
 "nbformat_minor": 5
}
