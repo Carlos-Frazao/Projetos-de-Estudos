{
 "cells": [
  {
   "cell_type": "markdown",
   "id": "2b04bbea",
   "metadata": {},
   "source": [
    "# Strings\n",
    "\n",
    "<span style=\"color: red;\"><b>Todos os exercícios são feitos partindo-se do pressuposto de que todas as entradas são dadas de forma correta. Casos limite não mencionados no enunciado não são abordados porque não fazem parte do exercício.</b></span>"
   ]
  },
  {
   "cell_type": "markdown",
   "id": "5b1f33b9",
   "metadata": {},
   "source": [
    "#### 1. Tamanho de strings. Faça um programa que leia 2 strings e informe o conteúdo delas seguido do seu comprimento. Informe também se as duas strings possuem o mesmo comprimento e são iguais ou diferentes no conteúdo.\n",
    "<pre>\n",
    "Compara duas strings\n",
    "String 1: Brasil Hexa 2006\n",
    "String 2: Brasil! Hexa 2006!\n",
    "Tamanho de \"Brasil Hexa 2006\": 16 caracteres\n",
    "Tamanho de \"Brasil! Hexa 2006!\": 18 caracteres\n",
    "As duas strings são de tamanhos diferentes.\n",
    "As duas strings possuem conteúdo diferente.\n",
    "</pre>"
   ]
  },
  {
   "cell_type": "code",
   "execution_count": null,
   "id": "c492b657",
   "metadata": {},
   "outputs": [
    {
     "name": "stdout",
     "output_type": "stream",
     "text": [
      "String 1: Brasil Hexa 2006, Comprimento: 16\n",
      "String 2: Brasil Hexa 2006, Comprimento: 16\n",
      "As duas strings tem o mesmo tamanho.\n",
      "As duas strings são iguais no conteúdo.\n"
     ]
    }
   ],
   "source": [
    "string1 = \"Brasil Hexa 2006\"\n",
    "string2 = \"Brasil! Hexa 2006!\"\n",
    "\n",
    "\n",
    "print(f\"String 1: {string1}, Comprimento: {len(string1)}\")\n",
    "print(f\"String 2: {string2}, Comprimento: {len(string2)}\")\n",
    "\n",
    "if len(string1) == len(string2) and string1 == string2:\n",
    "    print(\"As duas strings tem o mesmo tamanho.\")\n",
    "    print(\"As duas strings são iguais no conteúdo.\")\n",
    "elif len(string1) == len(string2) and string1 != string2:\n",
    "    print(\"As duas strings tem o mesmo tamanho.\")\n",
    "    print(\"As duas strings são diferentes no conteúdo.\")\n",
    "else:\n",
    "    print(\"As duas strings tem tamanhos diferentes\")\n",
    "    print(\"As duas strings são diferente conteúdo.\")\n"
   ]
  },
  {
   "cell_type": "markdown",
   "id": "c3068a53",
   "metadata": {},
   "source": [
    "#### 2. Valida e corrige número de telefone. Faça um programa que leia um número de telefone, e corrija o número no caso deste conter somente 7 dígitos, acrescentando o '3' na frente. O usuário pode informar o número com ou sem o traço separador.\n",
    "<pre>\n",
    "Valida e corrige número de telefone\n",
    "Telefone: 461-0133\n",
    "Telefone possui 7 dígitos. Vou acrescentar o digito três na frente.\n",
    "Telefone corrigido sem formatação: 34610133\n",
    "Telefone corrigido com formatação: 3461-0133\n",
    "</pre>"
   ]
  },
  {
   "cell_type": "code",
   "execution_count": null,
   "id": "0308566d",
   "metadata": {},
   "outputs": [
    {
     "name": "stdout",
     "output_type": "stream",
     "text": [
      "Digite um número válido.\n"
     ]
    }
   ],
   "source": [
    "n = input(\"Digite um número: \")\n",
    "\n",
    "#Essa parte analisa com o espaço separador.\n",
    "if len(n) == 8 and \"-\" in n:\n",
    "    #Valida e Corrige número de telefone.\n",
    "    print(f\"Telefone: {n}\")\n",
    "    print(f\"Esse telefone possui 7 Dígitos. Vou acrescentar o número três na frente.\")\n",
    "    #Acrescenta o número 3 na frente.\n",
    "    n = \"3\" + n\n",
    "    print(f\"Telefone: {n}\")\n",
    "    #número sem formatação.\n",
    "    n = n.replace(\"-\", \"\")\n",
    "    print(f\"Telefone corrigido sem formatação: {n}\")\n",
    "    #número com formatação.\n",
    "    print(f\"Telefone corrigido com formatação: {n[:4]}-{n[4:]}\")\n",
    "    print(\"Teste com número com o traço.\")\n",
    "elif len(n) == 7 and n.isnumeric() == True:\n",
    "    #Valida e Corrige número de telefone.\n",
    "    print(f\"Telefone: {n}\")\n",
    "    print(f\"Telefone possui 7 Dígitos. Vou acrescentar o número três na frente.\")\n",
    "    #ACrescenta o número 3 na frente.\n",
    "    n = \"3\" + n\n",
    "    print(f\"Telefone: {n}\")\n",
    "    #número sem formatação.\n",
    "    print(f\"Telefone corrigido sem formatação: {n}\")\n",
    "    #número com formatação.\n",
    "    print(f\"Telefone corrigido com formatação: {n[:4]}-{n[4:]}\")\n",
    "    print(\"Teste com número sem o traço.\")\n",
    "else:\n",
    "    print(\"Digite um número válido.\")\n"
   ]
  }
 ],
 "metadata": {
  "kernelspec": {
   "display_name": "base",
   "language": "python",
   "name": "python3"
  },
  "language_info": {
   "codemirror_mode": {
    "name": "ipython",
    "version": 3
   },
   "file_extension": ".py",
   "mimetype": "text/x-python",
   "name": "python",
   "nbconvert_exporter": "python",
   "pygments_lexer": "ipython3",
   "version": "3.12.7"
  }
 },
 "nbformat": 4,
 "nbformat_minor": 5
}
