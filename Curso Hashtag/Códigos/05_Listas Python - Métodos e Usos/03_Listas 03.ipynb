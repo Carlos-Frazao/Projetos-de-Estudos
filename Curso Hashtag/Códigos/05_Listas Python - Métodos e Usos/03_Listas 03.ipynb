{
 "cells": [
  {
   "cell_type": "markdown",
   "metadata": {},
   "source": [
    "# Como descobrir o índice de um item de uma lista?\n",
    "\n",
    "i = lista.index('item')"
   ]
  },
  {
   "cell_type": "markdown",
   "metadata": {},
   "source": [
    "Exemplo:\n",
    "\n",
    "Digamos que você puxou do Banco de Dados da sua empresa uma lista com todos os produtos que a empresa vende e a quantidade em estoque de todos eles."
   ]
  },
  {
   "cell_type": "code",
   "execution_count": 5,
   "metadata": {},
   "outputs": [],
   "source": [
    "produtos = ['tv', 'celular', 'tablet', 'mouse', 'teclado', 'geladeira', 'forno']\n",
    "estoque = [100, 150, 100, 120, 70, 180, 80]"
   ]
  },
  {
   "cell_type": "markdown",
   "metadata": {},
   "source": [
    "Nesse caso a lista é \"pequena\" para fins didáticos, mas essa lista poderia ter dezenas de milhares de produtos diferentes.\n",
    "\n",
    "E agora, como eu faço para descobrir a quantidade em estoque do produto geladeira?"
   ]
  },
  {
   "cell_type": "code",
   "execution_count": 6,
   "metadata": {},
   "outputs": [
    {
     "name": "stdout",
     "output_type": "stream",
     "text": [
      "geladeira\n",
      "180\n"
     ]
    }
   ],
   "source": [
    "i = produtos.index(\"geladeira\") #Descobrindo a posição do produto.\n",
    "qtdade = estoque[i]\n",
    "\n",
    "print(produtos[i])\n",
    "print(qtdade)"
   ]
  },
  {
   "cell_type": "markdown",
   "metadata": {},
   "source": [
    "Crie um programa para fazer uma consulta de estoque. O usuário do programa deve inserir o nome do produto e, caso ele não exista na lista, ele deve ser avisado. Caso exista, o programa deve dizer a quantidade de unidades em estoque do produto"
   ]
  },
  {
   "cell_type": "code",
   "execution_count": null,
   "metadata": {},
   "outputs": [
    {
     "name": "stdout",
     "output_type": "stream",
     "text": [
      "----------CONSULTA DE ESTOQUE----------\n",
      "Produto não encontrado!\n"
     ]
    }
   ],
   "source": [
    "print(f\"----------CONSULTA DE ESTOQUE----------\")\n",
    "nome = input(\"Digite o nome do produto: \") #Solicita o nome do produto.\n",
    "if nome in produtos: #Verifica se o produto está na lista.\n",
    "    i = produtos.index(nome) #Descobre a posição do produto.\n",
    "    qtdade = estoque[i] #Descobre a quantidade do produto na mesma posição onde o produto está.\n",
    "    print(f\"O produto {nome}, possui {qtdade} unidades em estoque.\")\n",
    "else:\n",
    "    print(f\"Produto {nome} não encontrado!\")\n"
   ]
  }
 ],
 "metadata": {
  "kernelspec": {
   "display_name": "base",
   "language": "python",
   "name": "python3"
  },
  "language_info": {
   "codemirror_mode": {
    "name": "ipython",
    "version": 3
   },
   "file_extension": ".py",
   "mimetype": "text/x-python",
   "name": "python",
   "nbconvert_exporter": "python",
   "pygments_lexer": "ipython3",
   "version": "3.12.7"
  }
 },
 "nbformat": 4,
 "nbformat_minor": 4
}
