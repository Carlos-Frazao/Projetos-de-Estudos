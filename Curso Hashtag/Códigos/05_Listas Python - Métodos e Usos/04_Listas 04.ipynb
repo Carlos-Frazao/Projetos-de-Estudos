{
 "cells": [
  {
   "cell_type": "markdown",
   "metadata": {},
   "source": [
    "# Adicionar e Remover itens de uma lista\n",
    "\n",
    "Adicionar:<br>\n",
    "lista.append(item)\n",
    "\n",
    "Remover:<br>\n",
    "item_removido = lista.pop(indice)<br>\n",
    "lista.remove(item)\n",
    "\n",
    "Digamos que você está construindo o controle de produtos da Apple.<br>\n",
    "E a Apple lançou o IPhone 11 e irá tirar dos seus estoques o IPhone X"
   ]
  },
  {
   "cell_type": "code",
   "execution_count": 40,
   "metadata": {},
   "outputs": [
    {
     "name": "stdout",
     "output_type": "stream",
     "text": [
      "Lista original dos produtos.\n",
      "['apple tv', 'mac', 'iphone x', 'IPad', 'apple watch', 'mac book', 'airpods']\n",
      "\n",
      "Trocar produtos da lista.\n",
      "['apple tv', 'mac', 'iphone 11', 'IPad', 'apple watch', 'mac book', 'airpods']\n",
      "\n",
      "Lista original dos produtos.\n",
      "['apple tv', 'mac', 'iphone x', 'IPad', 'apple watch', 'mac book', 'airpods']\n",
      "\n",
      "Adicionar produtos, adicionando iphone 11\n",
      "['apple tv', 'mac', 'iphone x', 'IPad', 'apple watch', 'mac book', 'airpods', 'iphone 11']\n",
      "\n",
      "Remover produtos, removendo iphone x,\n",
      "['apple tv', 'mac', 'IPad', 'apple watch', 'mac book', 'airpods', 'iphone 11']\n",
      "\n",
      "Lista original dos produtos.\n",
      "['apple tv', 'mac', 'iphone x', 'IPad', 'apple watch', 'mac book', 'airpods']\n",
      "\n",
      "Remover produtos, removendo iphone x, método pop.\n",
      "['apple tv', 'mac', 'IPad', 'apple watch', 'mac book', 'airpods']\n",
      "O item removido foi iphone x\n",
      "\n",
      "Lista original dos produtos.\n",
      "['apple tv', 'mac', 'iphone x', 'IPad', 'apple watch', 'mac book', 'airpods']\n",
      "\n",
      "Remover produtos, removendo iphone x, método remove com if.\n",
      "O item iphonex não está na lista.\n"
     ]
    }
   ],
   "source": [
    "produtos = ['apple tv', 'mac', 'iphone x', 'IPad', 'apple watch', 'mac book', 'airpods']\n",
    "\n",
    "#lista original\n",
    "print(\"Lista original dos produtos.\")\n",
    "print(produtos)\n",
    "print(\"\")\n",
    "\n",
    "#Trocar produtos da lista\n",
    "print(\"Trocar produtos da lista.\")\n",
    "produtos[2] = 'iphone 11'\n",
    "print(produtos)\n",
    "print(\"\")\n",
    "\n",
    "#lista original\n",
    "print(\"Lista original dos produtos.\")\n",
    "produtos[2] = 'iphone x'\n",
    "print(produtos)\n",
    "print(\"\")\n",
    "\n",
    "#Adicionar o iphone 11\n",
    "print(\"Adicionar produtos, adicionando iphone 11\")\n",
    "produtos.append('iphone 11')\n",
    "print(produtos)\n",
    "print(\"\")\n",
    "\n",
    "#Remover iphone x\n",
    "print(\"Remover produtos, removendo iphone x,\")\n",
    "produtos.remove('iphone x')\n",
    "print(produtos)\n",
    "print(\"\")\n",
    "\n",
    "#lista original\n",
    "print(\"Lista original dos produtos.\")\n",
    "produtos = ['apple tv', 'mac', 'iphone x', 'IPad', 'apple watch', 'mac book', 'airpods']\n",
    "print(produtos)\n",
    "print(\"\")\n",
    "\n",
    "#Segunda forma de remover produtos. No pop vc pode armazenar o valor removido em uma variável.\n",
    "print(\"Remover produtos, removendo iphone x, método pop.\")\n",
    "item_removido = produtos.pop(2)\n",
    "print(produtos)\n",
    "print(f\"O item removido foi {item_removido}\")\n",
    "print(\"\")\n",
    "\n",
    "#lista original\n",
    "print(\"Lista original dos produtos.\")\n",
    "produtos = ['apple tv', 'mac', 'iphone x', 'IPad', 'apple watch', 'mac book', 'airpods']\n",
    "print(produtos)\n",
    "print(\"\")\n",
    "\n",
    "#Remover iphone x com if\n",
    "print(\"Remover produtos, removendo iphone x, método remove com if.\")\n",
    "produ_remover = 'iphonex'\n",
    "if produ_remover in produtos:\n",
    "    produtos.remove(produ_remover)\n",
    "    print(produtos)\n",
    "else:\n",
    "    print(f\"O item {produ_remover} não está na lista.\")\n"
   ]
  },
  {
   "cell_type": "markdown",
   "metadata": {},
   "source": [
    "## Existem 2 formas de tratar o erro:\n",
    "\n",
    "1. Criar um if para evitar que ele aconteça\n",
    "\n",
    "2. Esperar que ele possa acontecer e tratar caso o erro aconteça com:"
   ]
  },
  {
   "cell_type": "raw",
   "metadata": {},
   "source": [
    "try:\n",
    "    tentar fazer\n",
    "except:\n",
    "    caso dê errado"
   ]
  },
  {
   "cell_type": "code",
   "execution_count": 41,
   "metadata": {},
   "outputs": [
    {
     "name": "stdout",
     "output_type": "stream",
     "text": [
      "['apple tv', 'mac', 'IPad', 'apple watch', 'mac book', 'airpods']\n"
     ]
    }
   ],
   "source": [
    "try:\n",
    "    produtos.remove(\"iphone x\")\n",
    "    print(produtos)\n",
    "except:\n",
    "    print(f\"O iphonex não está na lista\")"
   ]
  }
 ],
 "metadata": {
  "kernelspec": {
   "display_name": "base",
   "language": "python",
   "name": "python3"
  },
  "language_info": {
   "codemirror_mode": {
    "name": "ipython",
    "version": 3
   },
   "file_extension": ".py",
   "mimetype": "text/x-python",
   "name": "python",
   "nbconvert_exporter": "python",
   "pygments_lexer": "ipython3",
   "version": "3.12.7"
  }
 },
 "nbformat": 4,
 "nbformat_minor": 4
}
