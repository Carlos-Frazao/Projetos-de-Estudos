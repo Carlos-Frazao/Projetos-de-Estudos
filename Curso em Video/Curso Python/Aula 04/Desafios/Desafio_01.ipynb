{
 "cells": [
  {
   "cell_type": "markdown",
   "id": "8e296ff9",
   "metadata": {},
   "source": [
    "### Crie um script Pythn que leia o nome de uma pessoa e mostre uma mensagem dfe boas-vindas de acordo com o valor digitado.\n"
   ]
  },
  {
   "cell_type": "code",
   "execution_count": 17,
   "id": "92b236c1",
   "metadata": {},
   "outputs": [
    {
     "name": "stdout",
     "output_type": "stream",
     "text": [
      "Olá, Carlos ! Prazer em te conhecer!\n",
      "Olá, Carlos! Prazer em te conhecer!\n"
     ]
    }
   ],
   "source": [
    "nome = input(\"Digite seu nome: \")\n",
    "print(\"Olá,\",nome,\"! Prazer em te conhecer!\")\n",
    "print(\"Olá, \"+nome+\"! Prazer em te conhecer!\")"
   ]
  }
 ],
 "metadata": {
  "kernelspec": {
   "display_name": "base",
   "language": "python",
   "name": "python3"
  },
  "language_info": {
   "codemirror_mode": {
    "name": "ipython",
    "version": 3
   },
   "file_extension": ".py",
   "mimetype": "text/x-python",
   "name": "python",
   "nbconvert_exporter": "python",
   "pygments_lexer": "ipython3",
   "version": "3.12.7"
  }
 },
 "nbformat": 4,
 "nbformat_minor": 5
}
