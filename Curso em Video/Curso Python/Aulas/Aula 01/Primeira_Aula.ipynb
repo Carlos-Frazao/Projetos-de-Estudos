{
 "cells": [
  {
   "cell_type": "markdown",
   "id": "8b7e4299",
   "metadata": {},
   "source": [
    "### Por que ser Programador?"
   ]
  },
  {
   "cell_type": "markdown",
   "id": "e4db1b5c",
   "metadata": {},
   "source": [
    "##### Por que a maior parte dos equipamentos tecnologico do nosso cotidiano é desenvolvido e feito por um programadores."
   ]
  },
  {
   "cell_type": "markdown",
   "id": "23231240",
   "metadata": {},
   "source": [
    "--------------------"
   ]
  },
  {
   "cell_type": "markdown",
   "id": "60b440d7",
   "metadata": {},
   "source": [
    "### Vantagem dos Programadores"
   ]
  },
  {
   "cell_type": "markdown",
   "id": "60d230a2",
   "metadata": {},
   "source": [
    "+ #### Resolver problemas mais rápido\n",
    "+ #### Mais criativo \n",
    "+ #### Espírito de comunidade\n",
    "+ #### Aprende as coisas mais rápido"
   ]
  },
  {
   "cell_type": "markdown",
   "id": "7d1bf949",
   "metadata": {},
   "source": [
    "------------------------"
   ]
  },
  {
   "cell_type": "markdown",
   "id": "2ccc880e",
   "metadata": {},
   "source": [
    "### Maiores Obstáculos"
   ]
  },
  {
   "cell_type": "markdown",
   "id": "39e553da",
   "metadata": {},
   "source": [
    "+ #### Falta de compromisso\n",
    "+ #### Excesso de pressa \n",
    "+ #### Poucos exercícios práticos\n",
    "+ #### Valorizar a base \n",
    "+ #### Achar que já sabe tudo"
   ]
  }
 ],
 "metadata": {
  "kernelspec": {
   "display_name": "base",
   "language": "python",
   "name": "python3"
  },
  "language_info": {
   "name": "python",
   "version": "3.12.7"
  }
 },
 "nbformat": 4,
 "nbformat_minor": 5
}
