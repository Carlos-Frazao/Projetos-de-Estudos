{
 "cells": [
  {
   "cell_type": "markdown",
   "id": "06c598f4",
   "metadata": {},
   "source": [
    "### História"
   ]
  },
  {
   "cell_type": "markdown",
   "id": "ab056082",
   "metadata": {},
   "source": [
    "##### Lá 1982 na capital da Holanda que é Amsterdam\n",
    "##### (CWI) Centrum Wiskunde & Informatica. Centro de matemática e ciência da computação. É o instituto nacional de pesquisa em matemática e ciência da computação na Holanda. O CWI está localizado no Science Park de Amesterdão. \n",
    "#### Guido Van Hossun"
   ]
  },
  {
   "cell_type": "markdown",
   "id": "0506c886",
   "metadata": {},
   "source": [
    "----------------"
   ]
  },
  {
   "cell_type": "markdown",
   "id": "ddd805b6",
   "metadata": {},
   "source": [
    "### Python é \n",
    "+ #### Linguagem de propósito geral \n",
    "+ #### Fácil e intuitivo\n",
    "+ #### Multiplataform\n",
    "+ #### Baterias incluidas\n",
    "+ #### Livre \n",
    "+ #### Organizada \n",
    "+ #### Orientada a objeto\n",
    "+ #### Muitas bibliotecas"
   ]
  },
  {
   "cell_type": "code",
   "execution_count": null,
   "id": "836f63fe",
   "metadata": {},
   "outputs": [
    {
     "name": "stdout",
     "output_type": "stream",
     "text": [
      "The Zen of Python, by Tim Peters\n",
      "\n",
      "Beautiful is better than ugly.\n",
      "Explicit is better than implicit.\n",
      "Simple is better than complex.\n",
      "Complex is better than complicated.\n",
      "Flat is better than nested.\n",
      "Sparse is better than dense.\n",
      "Readability counts.\n",
      "Special cases aren't special enough to break the rules.\n",
      "Although practicality beats purity.\n",
      "Errors should never pass silently.\n",
      "Unless explicitly silenced.\n",
      "In the face of ambiguity, refuse the temptation to guess.\n",
      "There should be one-- and preferably only one --obvious way to do it.\n",
      "Although that way may not be obvious at first unless you're Dutch.\n",
      "Now is better than never.\n",
      "Although never is often better than *right* now.\n",
      "If the implementation is hard to explain, it's a bad idea.\n",
      "If the implementation is easy to explain, it may be a good idea.\n",
      "Namespaces are one honking great idea -- let's do more of those!\n"
     ]
    }
   ],
   "source": [
    "import this\n",
    "#Impoortanto o módulo/filosofia do python, this do Python, que contém o Zen do Python. de Tim Peters."
   ]
  }
 ],
 "metadata": {
  "kernelspec": {
   "display_name": "base",
   "language": "python",
   "name": "python3"
  },
  "language_info": {
   "codemirror_mode": {
    "name": "ipython",
    "version": 3
   },
   "file_extension": ".py",
   "mimetype": "text/x-python",
   "name": "python",
   "nbconvert_exporter": "python",
   "pygments_lexer": "ipython3",
   "version": "3.12.7"
  }
 },
 "nbformat": 4,
 "nbformat_minor": 5
}
