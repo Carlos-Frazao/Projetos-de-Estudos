{
 "cells": [
  {
   "cell_type": "markdown",
   "id": "b5166bdc",
   "metadata": {},
   "source": [
    "### Crie um script Python que leia o dia, o mês e o ano de nascimento de uma pessoa e mostre uma mensagem com a data formatada.\n"
   ]
  },
  {
   "cell_type": "code",
   "execution_count": 4,
   "id": "c52512b7",
   "metadata": {},
   "outputs": [
    {
     "name": "stdout",
     "output_type": "stream",
     "text": [
      "Você nasceu no dia  17 de mar de 1978 . Correto?\n",
      "Você nasceu no dia  17 de mar de1978. Correto?\n"
     ]
    }
   ],
   "source": [
    "dia = input(\"Em que dia você nasceu? \")\n",
    "mes = input(\"Que mês você nasceu? \")\n",
    "ano = input(\"Em que ano você nasceu? \")\n",
    "print(\"Você nasceu no dia \",dia, \"de\" ,mes, \"de\" ,ano, \". Correto?\")\n",
    "print(\"Você nasceu no dia \",dia, \"de\" ,mes, \"de\" +ano+\". Correto?\")"
   ]
  }
 ],
 "metadata": {
  "kernelspec": {
   "display_name": "base",
   "language": "python",
   "name": "python3"
  },
  "language_info": {
   "codemirror_mode": {
    "name": "ipython",
    "version": 3
   },
   "file_extension": ".py",
   "mimetype": "text/x-python",
   "name": "python",
   "nbconvert_exporter": "python",
   "pygments_lexer": "ipython3",
   "version": "3.12.7"
  }
 },
 "nbformat": 4,
 "nbformat_minor": 5
}
