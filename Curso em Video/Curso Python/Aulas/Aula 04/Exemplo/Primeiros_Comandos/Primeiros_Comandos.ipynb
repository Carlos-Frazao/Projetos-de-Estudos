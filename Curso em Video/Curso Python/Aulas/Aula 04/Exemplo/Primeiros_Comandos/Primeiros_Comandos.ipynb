{
 "cells": [
  {
   "cell_type": "markdown",
   "id": "55fc7b83",
   "metadata": {},
   "source": [
    "##### Código sem interação com o usuário."
   ]
  },
  {
   "cell_type": "code",
   "execution_count": null,
   "id": "4ec162e8",
   "metadata": {},
   "outputs": [
    {
     "name": "stdout",
     "output_type": "stream",
     "text": [
      "Carlos 20 50.8\n"
     ]
    }
   ],
   "source": [
    "nome = \"Carlos\"\n",
    "idade = 20 \n",
    "peso = 50.8\n",
    "print(nome, idade, peso) #Saída de dados.\n"
   ]
  },
  {
   "cell_type": "markdown",
   "id": "a7bc159f",
   "metadata": {},
   "source": [
    "##### Código com interação do usuário."
   ]
  },
  {
   "cell_type": "code",
   "execution_count": null,
   "id": "7a0235dd",
   "metadata": {},
   "outputs": [
    {
     "name": "stdout",
     "output_type": "stream",
     "text": [
      "Carlos 20 50.8\n"
     ]
    }
   ],
   "source": [
    "#Função do input é retornar para o usuário digitar algo.\n",
    "nome = input(\"Qual seu nome? \")\n",
    "idade = input(\"Qual sua idade? \")\n",
    "peso = input(\"Qual seu peso? \")\n",
    "print(nome, idade, peso) #Saída de dados.\n"
   ]
  }
 ],
 "metadata": {
  "kernelspec": {
   "display_name": "base",
   "language": "python",
   "name": "python3"
  },
  "language_info": {
   "codemirror_mode": {
    "name": "ipython",
    "version": 3
   },
   "file_extension": ".py",
   "mimetype": "text/x-python",
   "name": "python",
   "nbconvert_exporter": "python",
   "pygments_lexer": "ipython3",
   "version": "3.12.7"
  }
 },
 "nbformat": 4,
 "nbformat_minor": 5
}
