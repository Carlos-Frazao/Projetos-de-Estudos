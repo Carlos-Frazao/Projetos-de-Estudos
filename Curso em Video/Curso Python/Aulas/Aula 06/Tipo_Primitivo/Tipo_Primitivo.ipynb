{
 "cells": [
  {
   "cell_type": "markdown",
   "id": "95b46761",
   "metadata": {},
   "source": [
    "### Tipo Primitivo"
   ]
  },
  {
   "cell_type": "code",
   "execution_count": 4,
   "id": "833b7f0e",
   "metadata": {},
   "outputs": [
    {
     "name": "stdout",
     "output_type": "stream",
     "text": [
      "<class 'str'>\n"
     ]
    }
   ],
   "source": [
    "n1 = input(\"Digite um número: \")\n",
    "print(type(n1))\n"
   ]
  },
  {
   "cell_type": "code",
   "execution_count": 5,
   "id": "030682d4",
   "metadata": {},
   "outputs": [
    {
     "name": "stdout",
     "output_type": "stream",
     "text": [
      "<class 'int'>\n"
     ]
    }
   ],
   "source": [
    "n1 = int(input(\"Digite um número: \"))\n",
    "print(type(n1))\n"
   ]
  },
  {
   "cell_type": "markdown",
   "id": "bf992943",
   "metadata": {},
   "source": [
    "### Todos os tipos primitivos."
   ]
  },
  {
   "cell_type": "code",
   "execution_count": 17,
   "id": "00769a7a",
   "metadata": {},
   "outputs": [
    {
     "name": "stdout",
     "output_type": "stream",
     "text": [
      "<class 'int'>\n",
      "<class 'float'>\n",
      "<class 'bool'>\n",
      "<class 'str'>\n"
     ]
    }
   ],
   "source": [
    "n = 4\n",
    "print(type(n))\n",
    "\n",
    "n = 4.5 \n",
    "print(type(n))\n",
    "\n",
    "n = True or False\n",
    "print(type(n))\n",
    "\n",
    "n = \"Olá\" \"7.5\"\n",
    "print(type(n))"
   ]
  }
 ],
 "metadata": {
  "kernelspec": {
   "display_name": "base",
   "language": "python",
   "name": "python3"
  },
  "language_info": {
   "codemirror_mode": {
    "name": "ipython",
    "version": 3
   },
   "file_extension": ".py",
   "mimetype": "text/x-python",
   "name": "python",
   "nbconvert_exporter": "python",
   "pygments_lexer": "ipython3",
   "version": "3.12.7"
  }
 },
 "nbformat": 4,
 "nbformat_minor": 5
}
