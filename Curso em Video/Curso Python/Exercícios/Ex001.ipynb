{
 "cells": [
  {
   "cell_type": "markdown",
   "id": "49c6d500",
   "metadata": {},
   "source": [
    "### Deafio 001\n",
    "#### Crie um programa que escreva \"Olá Mundo!\" na tela."
   ]
  },
  {
   "cell_type": "code",
   "execution_count": 1,
   "id": "f53ef2db",
   "metadata": {},
   "outputs": [
    {
     "name": "stdout",
     "output_type": "stream",
     "text": [
      "Olá, Mundo!\n"
     ]
    }
   ],
   "source": [
    "print(\"Olá, Mundo!\")"
   ]
  }
 ],
 "metadata": {
  "kernelspec": {
   "display_name": "base",
   "language": "python",
   "name": "python3"
  },
  "language_info": {
   "codemirror_mode": {
    "name": "ipython",
    "version": 3
   },
   "file_extension": ".py",
   "mimetype": "text/x-python",
   "name": "python",
   "nbconvert_exporter": "python",
   "pygments_lexer": "ipython3",
   "version": "3.12.7"
  }
 },
 "nbformat": 4,
 "nbformat_minor": 5
}
