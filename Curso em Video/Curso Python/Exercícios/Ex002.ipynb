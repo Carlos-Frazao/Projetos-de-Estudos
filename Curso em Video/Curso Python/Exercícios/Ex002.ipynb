{
 "cells": [
  {
   "cell_type": "markdown",
   "id": "ac7c974e",
   "metadata": {},
   "source": [
    "### Desafio 002\n",
    "#### Faça um programa que leia o nome de uma pesoa e mostre uma mensagem de boas-vindas."
   ]
  },
  {
   "cell_type": "code",
   "execution_count": 1,
   "id": "e4f68bc1",
   "metadata": {},
   "outputs": [
    {
     "name": "stdout",
     "output_type": "stream",
     "text": [
      "É um prazer te conhecer, Carlos Eduardo!\n"
     ]
    }
   ],
   "source": [
    "nome = input(\"Digite seu nome: \")\n",
    "print(f\"É um prazer te conhecer, {nome}!\")\n"
   ]
  }
 ],
 "metadata": {
  "kernelspec": {
   "display_name": "base",
   "language": "python",
   "name": "python3"
  },
  "language_info": {
   "codemirror_mode": {
    "name": "ipython",
    "version": 3
   },
   "file_extension": ".py",
   "mimetype": "text/x-python",
   "name": "python",
   "nbconvert_exporter": "python",
   "pygments_lexer": "ipython3",
   "version": "3.12.7"
  }
 },
 "nbformat": 4,
 "nbformat_minor": 5
}
